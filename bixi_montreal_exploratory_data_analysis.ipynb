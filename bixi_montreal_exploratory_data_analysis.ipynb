{
  "nbformat": 4,
  "nbformat_minor": 0,
  "metadata": {
    "colab": {
      "name": "bixi-montreal-exploratory-data-analysis.ipynb",
      "version": "0.3.2",
      "provenance": [],
      "include_colab_link": true
    },
    "kernelspec": {
      "name": "python3",
      "display_name": "Python 3"
    }
  },
  "cells": [
    {
      "cell_type": "markdown",
      "metadata": {
        "id": "view-in-github",
        "colab_type": "text"
      },
      "source": [
        "<a href=\"https://colab.research.google.com/github/bmshahrier/bixi-montreal/blob/master/bixi_montreal_exploratory_data_analysis.ipynb\" target=\"_parent\"><img src=\"https://colab.research.google.com/assets/colab-badge.svg\" alt=\"Open In Colab\"/></a>"
      ]
    },
    {
      "cell_type": "markdown",
      "metadata": {
        "id": "zr-ymaRQXgj_",
        "colab_type": "text"
      },
      "source": [
        "# BIXI Montreal Exploratory Data Analysis"
      ]
    },
    {
      "cell_type": "code",
      "metadata": {
        "id": "puYLgSNlXTy1",
        "colab_type": "code",
        "colab": {}
      },
      "source": [
        "# import the library\n",
        "%matplotlib inline\n",
        "\n",
        "import pandas as pd\n",
        "import numpy as np\n",
        "import scipy\n",
        "import matplotlib.pyplot as plt\n",
        "import datetime\n",
        "\n",
        "# the more advanced python visualization library\n",
        "import seaborn as sns\n",
        "\n",
        "# apply style to all the charts\n",
        "sns.set_style('whitegrid')\n",
        "\n",
        "# convert scientific notation to decimals\n",
        "pd.set_option('display.float_format', lambda x: '%.2f' % x)"
      ],
      "execution_count": 0,
      "outputs": []
    },
    {
      "cell_type": "markdown",
      "metadata": {
        "id": "cWTu5fLHX22e",
        "colab_type": "text"
      },
      "source": [
        "# Load csv Datafile from Google Drive"
      ]
    },
    {
      "cell_type": "code",
      "metadata": {
        "id": "Jr6D_DU_XzWb",
        "colab_type": "code",
        "colab": {
          "base_uri": "https://localhost:8080/",
          "height": 122
        },
        "outputId": "0f4cf8ce-2cf2-42d4-8ad3-8dbf66eae1a2"
      },
      "source": [
        "# Make connection with Google Drive\n",
        "from google.colab import drive\n",
        "drive.mount('/content/gdrive')"
      ],
      "execution_count": 2,
      "outputs": [
        {
          "output_type": "stream",
          "text": [
            "Go to this URL in a browser: https://accounts.google.com/o/oauth2/auth?client_id=947318989803-6bn6qk8qdgf4n4g3pfee6491hc0brc4i.apps.googleusercontent.com&redirect_uri=urn%3Aietf%3Awg%3Aoauth%3A2.0%3Aoob&scope=email%20https%3A%2F%2Fwww.googleapis.com%2Fauth%2Fdocs.test%20https%3A%2F%2Fwww.googleapis.com%2Fauth%2Fdrive%20https%3A%2F%2Fwww.googleapis.com%2Fauth%2Fdrive.photos.readonly%20https%3A%2F%2Fwww.googleapis.com%2Fauth%2Fpeopleapi.readonly&response_type=code\n",
            "\n",
            "Enter your authorization code:\n",
            "··········\n",
            "Mounted at /content/gdrive\n"
          ],
          "name": "stdout"
        }
      ]
    },
    {
      "cell_type": "code",
      "metadata": {
        "id": "Pm2i5xuAYO7h",
        "colab_type": "code",
        "colab": {
          "base_uri": "https://localhost:8080/",
          "height": 136
        },
        "outputId": "a5b2a1f9-3623-4d1f-eb52-7056d75628ad"
      },
      "source": [
        "# Get access the GDrive\n",
        "!ls -la /content/gdrive/My\\ Drive/Colab\\ Notebooks/"
      ],
      "execution_count": 3,
      "outputs": [
        {
          "output_type": "stream",
          "text": [
            "total 297\n",
            "drwx------ 2 root root   4096 Jun  9 13:45 bixi-montreal\n",
            "-rw------- 1 root root  95927 Jun 12 09:51 bixi-montreal-classification-model.ipynb\n",
            "-rw------- 1 root root  89305 Jul  1 21:08 bixi-montreal-data-wrangling.ipynb\n",
            "-rw------- 1 root root   1283 Jul  3 00:58 bixi-montreal-exploratory-data-analysis.ipynb\n",
            "-rw------- 1 root root 107276 Jun 15 03:53 bixi-montreal-regression-model.ipynb\n",
            "-rw------- 1 root root   4455 Jun  8 03:41 Untitled0.ipynb\n"
          ],
          "name": "stdout"
        }
      ]
    },
    {
      "cell_type": "code",
      "metadata": {
        "id": "p7dFPHNMYUGn",
        "colab_type": "code",
        "colab": {
          "base_uri": "https://localhost:8080/",
          "height": 187
        },
        "outputId": "c5723550-a6a3-4c3b-ca74-508c2d00e810"
      },
      "source": [
        "# Explore the contents of GDrive\n",
        "!ls -la /content/gdrive/My\\ Drive/Colab\\ Notebooks/bixi-montreal/processed-data"
      ],
      "execution_count": 5,
      "outputs": [
        {
          "output_type": "stream",
          "text": [
            "total 2703427\n",
            "-rw------- 1 root root      62283 Jun 15 03:30 bixi-bike-moveout-hourly.csv\n",
            "-rw------- 1 root root     159958 Jun 30 21:55 bixi_stations_2014_2018.csv\n",
            "-rw------- 1 root root 1035802802 Jun 30 21:55 bixi_trip_2014_2018.csv\n",
            "-rw------- 1 root root   72869236 Jun 15 03:36 bixi-trip-groupby-data-2018.csv\n",
            "-rw------- 1 root root   21085242 Jun  6 02:32 bixi-trip-weather-data-2018-04.csv\n",
            "-rw------- 1 root root  584134502 Jun 15 03:36 bixi-trip-weather-data-2018.csv\n",
            "-rw------- 1 root root 1050229678 Jul  1 21:03 bixi-trip-weather-data-hourly-2014-2018.csv\n",
            "-rw------- 1 root root     142485 Jun 30 21:55 mtl_weather_daily_2014_2018.csv\n",
            "-rw------- 1 root root    3820835 Jun 30 21:55 mtl_weather_hourly_2014_2018.csv\n"
          ],
          "name": "stdout"
        }
      ]
    },
    {
      "cell_type": "code",
      "metadata": {
        "id": "NEZ7wMDIYsBk",
        "colab_type": "code",
        "colab": {
          "base_uri": "https://localhost:8080/",
          "height": 326
        },
        "outputId": "6a587f30-d085-49e4-dd2c-20948be0e23f"
      },
      "source": [
        "# Load Station csv file to pandas DataFrame\n",
        "\n",
        "df_bixi = pd.read_csv('/content/gdrive/My Drive/Colab Notebooks/bixi-montreal/processed-data/bixi-trip-weather-data-hourly-2014-2018.csv', error_bad_lines=False)\n",
        "df_bixi.head()"
      ],
      "execution_count": 6,
      "outputs": [
        {
          "output_type": "execute_result",
          "data": {
            "text/html": [
              "<div>\n",
              "<style scoped>\n",
              "    .dataframe tbody tr th:only-of-type {\n",
              "        vertical-align: middle;\n",
              "    }\n",
              "\n",
              "    .dataframe tbody tr th {\n",
              "        vertical-align: top;\n",
              "    }\n",
              "\n",
              "    .dataframe thead th {\n",
              "        text-align: right;\n",
              "    }\n",
              "</style>\n",
              "<table border=\"1\" class=\"dataframe\">\n",
              "  <thead>\n",
              "    <tr style=\"text-align: right;\">\n",
              "      <th></th>\n",
              "      <th>Station_Code</th>\n",
              "      <th>Station_Name</th>\n",
              "      <th>Latitude</th>\n",
              "      <th>Longitude</th>\n",
              "      <th>Year</th>\n",
              "      <th>Month</th>\n",
              "      <th>Day</th>\n",
              "      <th>Week_Day</th>\n",
              "      <th>Hour</th>\n",
              "      <th>Bike_Move_Out</th>\n",
              "      <th>Bike_Move_In</th>\n",
              "      <th>Temp_(°C)</th>\n",
              "      <th>Dew_Point_Temp_(°C)</th>\n",
              "      <th>Rel_Hum_(%)</th>\n",
              "      <th>Wind_Dir_(10s_deg)</th>\n",
              "      <th>Wind_Spd_(km/h)</th>\n",
              "      <th>Visibility_(km)</th>\n",
              "      <th>Stn_Press_(kPa)</th>\n",
              "      <th>Wind_Chill</th>\n",
              "      <th>Weather</th>\n",
              "    </tr>\n",
              "  </thead>\n",
              "  <tbody>\n",
              "    <tr>\n",
              "      <th>0</th>\n",
              "      <td>6062</td>\n",
              "      <td>Drummond / Ste-Catherine</td>\n",
              "      <td>45.50</td>\n",
              "      <td>-73.57</td>\n",
              "      <td>2014</td>\n",
              "      <td>4</td>\n",
              "      <td>15</td>\n",
              "      <td>1</td>\n",
              "      <td>0</td>\n",
              "      <td>1</td>\n",
              "      <td>0</td>\n",
              "      <td>13.90</td>\n",
              "      <td>13.00</td>\n",
              "      <td>94.00</td>\n",
              "      <td>20.00</td>\n",
              "      <td>10.00</td>\n",
              "      <td>16.10</td>\n",
              "      <td>99.91</td>\n",
              "      <td>-4.00</td>\n",
              "      <td>Rain Showers</td>\n",
              "    </tr>\n",
              "    <tr>\n",
              "      <th>1</th>\n",
              "      <td>6064</td>\n",
              "      <td>de Maisonneuve / Stanley</td>\n",
              "      <td>45.50</td>\n",
              "      <td>-73.58</td>\n",
              "      <td>2014</td>\n",
              "      <td>4</td>\n",
              "      <td>15</td>\n",
              "      <td>1</td>\n",
              "      <td>0</td>\n",
              "      <td>1</td>\n",
              "      <td>0</td>\n",
              "      <td>13.90</td>\n",
              "      <td>13.00</td>\n",
              "      <td>94.00</td>\n",
              "      <td>20.00</td>\n",
              "      <td>10.00</td>\n",
              "      <td>16.10</td>\n",
              "      <td>99.91</td>\n",
              "      <td>-4.00</td>\n",
              "      <td>Rain Showers</td>\n",
              "    </tr>\n",
              "    <tr>\n",
              "      <th>2</th>\n",
              "      <td>6068</td>\n",
              "      <td>Mansfield / Sherbrooke</td>\n",
              "      <td>45.50</td>\n",
              "      <td>-73.58</td>\n",
              "      <td>2014</td>\n",
              "      <td>4</td>\n",
              "      <td>15</td>\n",
              "      <td>1</td>\n",
              "      <td>0</td>\n",
              "      <td>1</td>\n",
              "      <td>1</td>\n",
              "      <td>13.90</td>\n",
              "      <td>13.00</td>\n",
              "      <td>94.00</td>\n",
              "      <td>20.00</td>\n",
              "      <td>10.00</td>\n",
              "      <td>16.10</td>\n",
              "      <td>99.91</td>\n",
              "      <td>-4.00</td>\n",
              "      <td>Rain Showers</td>\n",
              "    </tr>\n",
              "    <tr>\n",
              "      <th>3</th>\n",
              "      <td>6082</td>\n",
              "      <td>6e avenue / Rosemont</td>\n",
              "      <td>45.55</td>\n",
              "      <td>-73.58</td>\n",
              "      <td>2014</td>\n",
              "      <td>4</td>\n",
              "      <td>15</td>\n",
              "      <td>1</td>\n",
              "      <td>0</td>\n",
              "      <td>0</td>\n",
              "      <td>1</td>\n",
              "      <td>13.90</td>\n",
              "      <td>13.00</td>\n",
              "      <td>94.00</td>\n",
              "      <td>20.00</td>\n",
              "      <td>10.00</td>\n",
              "      <td>16.10</td>\n",
              "      <td>99.91</td>\n",
              "      <td>-4.00</td>\n",
              "      <td>Rain Showers</td>\n",
              "    </tr>\n",
              "    <tr>\n",
              "      <th>4</th>\n",
              "      <td>6093</td>\n",
              "      <td>Atwater / Sherbrooke</td>\n",
              "      <td>45.49</td>\n",
              "      <td>-73.59</td>\n",
              "      <td>2014</td>\n",
              "      <td>4</td>\n",
              "      <td>15</td>\n",
              "      <td>1</td>\n",
              "      <td>0</td>\n",
              "      <td>0</td>\n",
              "      <td>1</td>\n",
              "      <td>13.90</td>\n",
              "      <td>13.00</td>\n",
              "      <td>94.00</td>\n",
              "      <td>20.00</td>\n",
              "      <td>10.00</td>\n",
              "      <td>16.10</td>\n",
              "      <td>99.91</td>\n",
              "      <td>-4.00</td>\n",
              "      <td>Rain Showers</td>\n",
              "    </tr>\n",
              "  </tbody>\n",
              "</table>\n",
              "</div>"
            ],
            "text/plain": [
              "   Station_Code              Station_Name  ...  Wind_Chill       Weather\n",
              "0          6062  Drummond / Ste-Catherine  ...       -4.00  Rain Showers\n",
              "1          6064  de Maisonneuve / Stanley  ...       -4.00  Rain Showers\n",
              "2          6068    Mansfield / Sherbrooke  ...       -4.00  Rain Showers\n",
              "3          6082      6e avenue / Rosemont  ...       -4.00  Rain Showers\n",
              "4          6093      Atwater / Sherbrooke  ...       -4.00  Rain Showers\n",
              "\n",
              "[5 rows x 20 columns]"
            ]
          },
          "metadata": {
            "tags": []
          },
          "execution_count": 6
        }
      ]
    },
    {
      "cell_type": "markdown",
      "metadata": {
        "id": "6y8oqVsoZdCx",
        "colab_type": "text"
      },
      "source": [
        "# Summarizing Data for Inspection"
      ]
    },
    {
      "cell_type": "code",
      "metadata": {
        "id": "J0xt5lvoZjL4",
        "colab_type": "code",
        "colab": {
          "base_uri": "https://localhost:8080/",
          "height": 459
        },
        "outputId": "34df03b3-a176-4577-9ff1-1c70d63fcf78"
      },
      "source": [
        "# Summarizing BIXI Data\n",
        "\n",
        "print(df_bixi.shape)\n",
        "print(df_bixi.columns)\n",
        "print(df_bixi.head())\n",
        "print(df_bixi.describe())"
      ],
      "execution_count": 7,
      "outputs": [
        {
          "output_type": "stream",
          "text": [
            "(8089071, 20)\n",
            "Index(['Station_Code', 'Station_Name', 'Latitude', 'Longitude', 'Year',\n",
            "       'Month', 'Day', 'Week_Day', 'Hour', 'Bike_Move_Out', 'Bike_Move_In',\n",
            "       'Temp_(°C)', 'Dew_Point_Temp_(°C)', 'Rel_Hum_(%)', 'Wind_Dir_(10s_deg)',\n",
            "       'Wind_Spd_(km/h)', 'Visibility_(km)', 'Stn_Press_(kPa)', 'Wind_Chill',\n",
            "       'Weather'],\n",
            "      dtype='object')\n",
            "   Station_Code              Station_Name  ...  Wind_Chill       Weather\n",
            "0          6062  Drummond / Ste-Catherine  ...       -4.00  Rain Showers\n",
            "1          6064  de Maisonneuve / Stanley  ...       -4.00  Rain Showers\n",
            "2          6068    Mansfield / Sherbrooke  ...       -4.00  Rain Showers\n",
            "3          6082      6e avenue / Rosemont  ...       -4.00  Rain Showers\n",
            "4          6093      Atwater / Sherbrooke  ...       -4.00  Rain Showers\n",
            "\n",
            "[5 rows x 20 columns]\n",
            "       Station_Code   Latitude  ...  Stn_Press_(kPa)  Wind_Chill\n",
            "count    8089071.00 8068259.00  ...       8089071.00  8089071.00\n",
            "mean        6335.08      45.52  ...           101.10       -6.37\n",
            "std          360.45       0.02  ...             0.70        1.64\n",
            "min         4000.00      45.43  ...            97.17      -20.00\n",
            "25%         6127.00      45.50  ...           100.66       -7.00\n",
            "50%         6234.00      45.52  ...           101.09       -7.00\n",
            "75%         6404.00      45.54  ...           101.55       -7.00\n",
            "max        10002.00      45.58  ...           103.79        0.00\n",
            "\n",
            "[8 rows x 18 columns]\n"
          ],
          "name": "stdout"
        }
      ]
    },
    {
      "cell_type": "markdown",
      "metadata": {
        "id": "6osOQquicu2X",
        "colab_type": "text"
      },
      "source": [
        "# Data Perspective"
      ]
    },
    {
      "cell_type": "code",
      "metadata": {
        "id": "LzDsuulJcxPU",
        "colab_type": "code",
        "colab": {
          "base_uri": "https://localhost:8080/",
          "height": 136
        },
        "outputId": "be5ca89f-b4fb-42d0-e526-78ed48358595"
      },
      "source": [
        "# Total number of Trips by Year\n",
        "df_bixi.groupby(by='Year')['Bike_Move_Out'].sum()"
      ],
      "execution_count": 15,
      "outputs": [
        {
          "output_type": "execute_result",
          "data": {
            "text/plain": [
              "Year\n",
              "2014    3136276\n",
              "2015    3443883\n",
              "2016    4000080\n",
              "2017    4740357\n",
              "2018    5277541\n",
              "Name: Bike_Move_Out, dtype: int64"
            ]
          },
          "metadata": {
            "tags": []
          },
          "execution_count": 15
        }
      ]
    },
    {
      "cell_type": "code",
      "metadata": {
        "id": "hd-deID3gJ-4",
        "colab_type": "code",
        "colab": {
          "base_uri": "https://localhost:8080/",
          "height": 731
        },
        "outputId": "ca0f654c-57c7-4f16-9a73-955eddb99944"
      },
      "source": [
        "# Total number of Trips by Year and Months\n",
        "df_bixi.groupby(by=['Year', 'Month'])['Bike_Move_Out'].sum()"
      ],
      "execution_count": 23,
      "outputs": [
        {
          "output_type": "execute_result",
          "data": {
            "text/plain": [
              "Year  Month\n",
              "2014  4        108264\n",
              "      5        455261\n",
              "      6        525863\n",
              "      7        569352\n",
              "      8        556780\n",
              "      9        477545\n",
              "      10       331818\n",
              "      11       111393\n",
              "2015  4        150271\n",
              "      5        545678\n",
              "      6        547238\n",
              "      7        620865\n",
              "      8        597505\n",
              "      9        523322\n",
              "      10       332597\n",
              "      11       126407\n",
              "2016  4        194514\n",
              "      5        573739\n",
              "      6        645448\n",
              "      7        716335\n",
              "      8        688174\n",
              "      9        632218\n",
              "      10       397707\n",
              "      11       151945\n",
              "2017  4        196327\n",
              "      5        589852\n",
              "      6        748078\n",
              "      7        877338\n",
              "      8        859471\n",
              "      9        747633\n",
              "      10       569930\n",
              "      11       151728\n",
              "2018  4        236982\n",
              "      5        811910\n",
              "      6        888470\n",
              "      7        953031\n",
              "      8        956790\n",
              "      9        797520\n",
              "      10       488490\n",
              "      11       144348\n",
              "Name: Bike_Move_Out, dtype: int64"
            ]
          },
          "metadata": {
            "tags": []
          },
          "execution_count": 23
        }
      ]
    },
    {
      "cell_type": "code",
      "metadata": {
        "id": "D59JbzztjrbF",
        "colab_type": "code",
        "colab": {
          "base_uri": "https://localhost:8080/",
          "height": 295
        },
        "outputId": "d0c7d2ac-e4d1-4e34-ba3d-7c71b08b699f"
      },
      "source": [
        "# Monthly Trips Trend by Year\n",
        "years = [2014, 2015, 2016, 2017, 2018]\n",
        "for year in years:\n",
        "  df_bixi.loc[df_bixi['Year'] == year].groupby(by=['Month'])['Bike_Move_Out'].sum().plot(kind='line')\n",
        "  plt.legend([2014, 2015, 2016, 2017, 2018])\n",
        "plt.title('Monthly Trips Trend by Year')\n",
        "plt.xlabel('Months')\n",
        "plt.ylabel('Number of Trips')\n",
        "plt.show()\n"
      ],
      "execution_count": 52,
      "outputs": [
        {
          "output_type": "display_data",
          "data": {
            "image/png": "[encoded data removed]",
            "text/plain": [
              "<Figure size 432x288 with 1 Axes>"
            ]
          },
          "metadata": {
            "tags": []
          }
        }
      ]
    }
  ]
}