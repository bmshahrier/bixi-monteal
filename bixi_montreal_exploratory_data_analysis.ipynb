{
  "nbformat": 4,
  "nbformat_minor": 0,
  "metadata": {
    "colab": {
      "name": "bixi-montreal-exploratory-data-analysis.ipynb",
      "version": "0.3.2",
      "provenance": [],
      "collapsed_sections": [],
      "include_colab_link": true
    },
    "kernelspec": {
      "name": "python3",
      "display_name": "Python 3"
    }
  },
  "cells": [
    {
      "cell_type": "markdown",
      "metadata": {
        "id": "view-in-github",
        "colab_type": "text"
      },
      "source": [
        "<a href=\"https://colab.research.google.com/github/bmshahrier/bixi-montreal/blob/master/bixi_montreal_exploratory_data_analysis.ipynb\" target=\"_parent\"><img src=\"https://colab.research.google.com/assets/colab-badge.svg\" alt=\"Open In Colab\"/></a>"
      ]
    },
    {
      "cell_type": "markdown",
      "metadata": {
        "id": "zr-ymaRQXgj_",
        "colab_type": "text"
      },
      "source": [
        "# BIXI Montreal Exploratory Data Analysis"
      ]
    },
    {
      "cell_type": "code",
      "metadata": {
        "id": "puYLgSNlXTy1",
        "colab_type": "code",
        "colab": {}
      },
      "source": [
        "# import the library\n",
        "%matplotlib inline\n",
        "\n",
        "import pandas as pd\n",
        "import numpy as np\n",
        "import scipy\n",
        "import matplotlib.pyplot as plt\n",
        "import datetime\n",
        "\n",
        "# the more advanced python visualization library\n",
        "import seaborn as sns\n",
        "\n",
        "# apply style to all the charts\n",
        "sns.set_style('whitegrid')\n",
        "\n",
        "# convert scientific notation to decimals\n",
        "pd.set_option('display.float_format', lambda x: '%.2f' % x)"
      ],
      "execution_count": 0,
      "outputs": []
    },
    {
      "cell_type": "markdown",
      "metadata": {
        "id": "cWTu5fLHX22e",
        "colab_type": "text"
      },
      "source": [
        "# Load csv Datafile from Google Drive"
      ]
    },
    {
      "cell_type": "code",
      "metadata": {
        "id": "Jr6D_DU_XzWb",
        "colab_type": "code",
        "colab": {
          "base_uri": "https://localhost:8080/",
          "height": 122
        },
        "outputId": "25ec9194-8274-4b65-bee8-b17a88a548a0"
      },
      "source": [
        "# Make connection with Google Drive\n",
        "from google.colab import drive\n",
        "drive.mount('/content/gdrive')"
      ],
      "execution_count": 2,
      "outputs": [
        {
          "output_type": "stream",
          "text": [
            "Go to this URL in a browser: https://accounts.google.com/o/oauth2/auth?client_id=947318989803-6bn6qk8qdgf4n4g3pfee6491hc0brc4i.apps.googleusercontent.com&redirect_uri=urn%3Aietf%3Awg%3Aoauth%3A2.0%3Aoob&scope=email%20https%3A%2F%2Fwww.googleapis.com%2Fauth%2Fdocs.test%20https%3A%2F%2Fwww.googleapis.com%2Fauth%2Fdrive%20https%3A%2F%2Fwww.googleapis.com%2Fauth%2Fdrive.photos.readonly%20https%3A%2F%2Fwww.googleapis.com%2Fauth%2Fpeopleapi.readonly&response_type=code\n",
            "\n",
            "Enter your authorization code:\n",
            "··········\n",
            "Mounted at /content/gdrive\n"
          ],
          "name": "stdout"
        }
      ]
    },
    {
      "cell_type": "code",
      "metadata": {
        "id": "Pm2i5xuAYO7h",
        "colab_type": "code",
        "colab": {
          "base_uri": "https://localhost:8080/",
          "height": 136
        },
        "outputId": "65f18ea4-f5ad-4f8f-977c-158f36d1c13b"
      },
      "source": [
        "# Get access the GDrive\n",
        "!ls -la /content/gdrive/My\\ Drive/Colab\\ Notebooks/"
      ],
      "execution_count": 3,
      "outputs": [
        {
          "output_type": "stream",
          "text": [
            "total 299\n",
            "drwx------ 2 root root   4096 Jun  9 13:45 bixi-montreal\n",
            "-rw------- 1 root root  95927 Jun 12 09:51 bixi-montreal-classification-model.ipynb\n",
            "-rw------- 1 root root  89305 Jul  1 21:08 bixi-montreal-data-wrangling.ipynb\n",
            "-rw------- 1 root root   3773 Jul  4 01:09 bixi-montreal-exploratory-data-analysis.ipynb\n",
            "-rw------- 1 root root 107276 Jun 15 03:53 bixi-montreal-regression-model.ipynb\n",
            "-rw------- 1 root root   4455 Jun  8 03:41 Untitled0.ipynb\n"
          ],
          "name": "stdout"
        }
      ]
    },
    {
      "cell_type": "code",
      "metadata": {
        "id": "p7dFPHNMYUGn",
        "colab_type": "code",
        "colab": {
          "base_uri": "https://localhost:8080/",
          "height": 187
        },
        "outputId": "e0679436-6310-40a7-ef4d-445310130cdf"
      },
      "source": [
        "# Explore the contents of GDrive\n",
        "!ls -la /content/gdrive/My\\ Drive/Colab\\ Notebooks/bixi-montreal/processed-data"
      ],
      "execution_count": 4,
      "outputs": [
        {
          "output_type": "stream",
          "text": [
            "total 2703427\n",
            "-rw------- 1 root root      62283 Jun 15 03:30 bixi-bike-moveout-hourly.csv\n",
            "-rw------- 1 root root     159958 Jun 30 21:55 bixi_stations_2014_2018.csv\n",
            "-rw------- 1 root root 1035802802 Jun 30 21:55 bixi_trip_2014_2018.csv\n",
            "-rw------- 1 root root   72869236 Jun 15 03:36 bixi-trip-groupby-data-2018.csv\n",
            "-rw------- 1 root root   21085242 Jun  6 02:32 bixi-trip-weather-data-2018-04.csv\n",
            "-rw------- 1 root root  584134502 Jun 15 03:36 bixi-trip-weather-data-2018.csv\n",
            "-rw------- 1 root root 1050229678 Jul  1 21:03 bixi-trip-weather-data-hourly-2014-2018.csv\n",
            "-rw------- 1 root root     142485 Jun 30 21:55 mtl_weather_daily_2014_2018.csv\n",
            "-rw------- 1 root root    3820835 Jun 30 21:55 mtl_weather_hourly_2014_2018.csv\n"
          ],
          "name": "stdout"
        }
      ]
    },
    {
      "cell_type": "code",
      "metadata": {
        "id": "NEZ7wMDIYsBk",
        "colab_type": "code",
        "colab": {
          "base_uri": "https://localhost:8080/",
          "height": 326
        },
        "outputId": "86f63c21-da54-4237-f364-5d4140fdb718"
      },
      "source": [
        "# Load Station csv file to pandas DataFrame\n",
        "\n",
        "df_bixi = pd.read_csv('/content/gdrive/My Drive/Colab Notebooks/bixi-montreal/processed-data/bixi-trip-weather-data-hourly-2014-2018.csv', error_bad_lines=False)\n",
        "df_bixi.head()"
      ],
      "execution_count": 5,
      "outputs": [
        {
          "output_type": "execute_result",
          "data": {
            "text/html": [
              "<div>\n",
              "<style scoped>\n",
              "    .dataframe tbody tr th:only-of-type {\n",
              "        vertical-align: middle;\n",
              "    }\n",
              "\n",
              "    .dataframe tbody tr th {\n",
              "        vertical-align: top;\n",
              "    }\n",
              "\n",
              "    .dataframe thead th {\n",
              "        text-align: right;\n",
              "    }\n",
              "</style>\n",
              "<table border=\"1\" class=\"dataframe\">\n",
              "  <thead>\n",
              "    <tr style=\"text-align: right;\">\n",
              "      <th></th>\n",
              "      <th>Station_Code</th>\n",
              "      <th>Station_Name</th>\n",
              "      <th>Latitude</th>\n",
              "      <th>Longitude</th>\n",
              "      <th>Year</th>\n",
              "      <th>Month</th>\n",
              "      <th>Day</th>\n",
              "      <th>Week_Day</th>\n",
              "      <th>Hour</th>\n",
              "      <th>Bike_Move_Out</th>\n",
              "      <th>Bike_Move_In</th>\n",
              "      <th>Temp_(°C)</th>\n",
              "      <th>Dew_Point_Temp_(°C)</th>\n",
              "      <th>Rel_Hum_(%)</th>\n",
              "      <th>Wind_Dir_(10s_deg)</th>\n",
              "      <th>Wind_Spd_(km/h)</th>\n",
              "      <th>Visibility_(km)</th>\n",
              "      <th>Stn_Press_(kPa)</th>\n",
              "      <th>Wind_Chill</th>\n",
              "      <th>Weather</th>\n",
              "    </tr>\n",
              "  </thead>\n",
              "  <tbody>\n",
              "    <tr>\n",
              "      <th>0</th>\n",
              "      <td>6062</td>\n",
              "      <td>Drummond / Ste-Catherine</td>\n",
              "      <td>45.50</td>\n",
              "      <td>-73.57</td>\n",
              "      <td>2014</td>\n",
              "      <td>4</td>\n",
              "      <td>15</td>\n",
              "      <td>1</td>\n",
              "      <td>0</td>\n",
              "      <td>1</td>\n",
              "      <td>0</td>\n",
              "      <td>13.90</td>\n",
              "      <td>13.00</td>\n",
              "      <td>94.00</td>\n",
              "      <td>20.00</td>\n",
              "      <td>10.00</td>\n",
              "      <td>16.10</td>\n",
              "      <td>99.91</td>\n",
              "      <td>-4.00</td>\n",
              "      <td>Rain Showers</td>\n",
              "    </tr>\n",
              "    <tr>\n",
              "      <th>1</th>\n",
              "      <td>6064</td>\n",
              "      <td>de Maisonneuve / Stanley</td>\n",
              "      <td>45.50</td>\n",
              "      <td>-73.58</td>\n",
              "      <td>2014</td>\n",
              "      <td>4</td>\n",
              "      <td>15</td>\n",
              "      <td>1</td>\n",
              "      <td>0</td>\n",
              "      <td>1</td>\n",
              "      <td>0</td>\n",
              "      <td>13.90</td>\n",
              "      <td>13.00</td>\n",
              "      <td>94.00</td>\n",
              "      <td>20.00</td>\n",
              "      <td>10.00</td>\n",
              "      <td>16.10</td>\n",
              "      <td>99.91</td>\n",
              "      <td>-4.00</td>\n",
              "      <td>Rain Showers</td>\n",
              "    </tr>\n",
              "    <tr>\n",
              "      <th>2</th>\n",
              "      <td>6068</td>\n",
              "      <td>Mansfield / Sherbrooke</td>\n",
              "      <td>45.50</td>\n",
              "      <td>-73.58</td>\n",
              "      <td>2014</td>\n",
              "      <td>4</td>\n",
              "      <td>15</td>\n",
              "      <td>1</td>\n",
              "      <td>0</td>\n",
              "      <td>1</td>\n",
              "      <td>1</td>\n",
              "      <td>13.90</td>\n",
              "      <td>13.00</td>\n",
              "      <td>94.00</td>\n",
              "      <td>20.00</td>\n",
              "      <td>10.00</td>\n",
              "      <td>16.10</td>\n",
              "      <td>99.91</td>\n",
              "      <td>-4.00</td>\n",
              "      <td>Rain Showers</td>\n",
              "    </tr>\n",
              "    <tr>\n",
              "      <th>3</th>\n",
              "      <td>6082</td>\n",
              "      <td>6e avenue / Rosemont</td>\n",
              "      <td>45.55</td>\n",
              "      <td>-73.58</td>\n",
              "      <td>2014</td>\n",
              "      <td>4</td>\n",
              "      <td>15</td>\n",
              "      <td>1</td>\n",
              "      <td>0</td>\n",
              "      <td>0</td>\n",
              "      <td>1</td>\n",
              "      <td>13.90</td>\n",
              "      <td>13.00</td>\n",
              "      <td>94.00</td>\n",
              "      <td>20.00</td>\n",
              "      <td>10.00</td>\n",
              "      <td>16.10</td>\n",
              "      <td>99.91</td>\n",
              "      <td>-4.00</td>\n",
              "      <td>Rain Showers</td>\n",
              "    </tr>\n",
              "    <tr>\n",
              "      <th>4</th>\n",
              "      <td>6093</td>\n",
              "      <td>Atwater / Sherbrooke</td>\n",
              "      <td>45.49</td>\n",
              "      <td>-73.59</td>\n",
              "      <td>2014</td>\n",
              "      <td>4</td>\n",
              "      <td>15</td>\n",
              "      <td>1</td>\n",
              "      <td>0</td>\n",
              "      <td>0</td>\n",
              "      <td>1</td>\n",
              "      <td>13.90</td>\n",
              "      <td>13.00</td>\n",
              "      <td>94.00</td>\n",
              "      <td>20.00</td>\n",
              "      <td>10.00</td>\n",
              "      <td>16.10</td>\n",
              "      <td>99.91</td>\n",
              "      <td>-4.00</td>\n",
              "      <td>Rain Showers</td>\n",
              "    </tr>\n",
              "  </tbody>\n",
              "</table>\n",
              "</div>"
            ],
            "text/plain": [
              "   Station_Code              Station_Name  ...  Wind_Chill       Weather\n",
              "0          6062  Drummond / Ste-Catherine  ...       -4.00  Rain Showers\n",
              "1          6064  de Maisonneuve / Stanley  ...       -4.00  Rain Showers\n",
              "2          6068    Mansfield / Sherbrooke  ...       -4.00  Rain Showers\n",
              "3          6082      6e avenue / Rosemont  ...       -4.00  Rain Showers\n",
              "4          6093      Atwater / Sherbrooke  ...       -4.00  Rain Showers\n",
              "\n",
              "[5 rows x 20 columns]"
            ]
          },
          "metadata": {
            "tags": []
          },
          "execution_count": 5
        }
      ]
    },
    {
      "cell_type": "markdown",
      "metadata": {
        "id": "6y8oqVsoZdCx",
        "colab_type": "text"
      },
      "source": [
        "# Summarizing Data for Inspection"
      ]
    },
    {
      "cell_type": "code",
      "metadata": {
        "id": "J0xt5lvoZjL4",
        "colab_type": "code",
        "colab": {
          "base_uri": "https://localhost:8080/",
          "height": 459
        },
        "outputId": "009265e2-61ed-4168-de0f-7aa71dd68389"
      },
      "source": [
        "# Summarizing BIXI Data\n",
        "\n",
        "print(df_bixi.shape)\n",
        "print(df_bixi.columns)\n",
        "print(df_bixi.head())\n",
        "print(df_bixi.describe())"
      ],
      "execution_count": 6,
      "outputs": [
        {
          "output_type": "stream",
          "text": [
            "(8089071, 20)\n",
            "Index(['Station_Code', 'Station_Name', 'Latitude', 'Longitude', 'Year',\n",
            "       'Month', 'Day', 'Week_Day', 'Hour', 'Bike_Move_Out', 'Bike_Move_In',\n",
            "       'Temp_(°C)', 'Dew_Point_Temp_(°C)', 'Rel_Hum_(%)', 'Wind_Dir_(10s_deg)',\n",
            "       'Wind_Spd_(km/h)', 'Visibility_(km)', 'Stn_Press_(kPa)', 'Wind_Chill',\n",
            "       'Weather'],\n",
            "      dtype='object')\n",
            "   Station_Code              Station_Name  ...  Wind_Chill       Weather\n",
            "0          6062  Drummond / Ste-Catherine  ...       -4.00  Rain Showers\n",
            "1          6064  de Maisonneuve / Stanley  ...       -4.00  Rain Showers\n",
            "2          6068    Mansfield / Sherbrooke  ...       -4.00  Rain Showers\n",
            "3          6082      6e avenue / Rosemont  ...       -4.00  Rain Showers\n",
            "4          6093      Atwater / Sherbrooke  ...       -4.00  Rain Showers\n",
            "\n",
            "[5 rows x 20 columns]\n",
            "       Station_Code   Latitude  ...  Stn_Press_(kPa)  Wind_Chill\n",
            "count    8089071.00 8068259.00  ...       8089071.00  8089071.00\n",
            "mean        6335.08      45.52  ...           101.10       -6.37\n",
            "std          360.45       0.02  ...             0.70        1.64\n",
            "min         4000.00      45.43  ...            97.17      -20.00\n",
            "25%         6127.00      45.50  ...           100.66       -7.00\n",
            "50%         6234.00      45.52  ...           101.09       -7.00\n",
            "75%         6404.00      45.54  ...           101.55       -7.00\n",
            "max        10002.00      45.58  ...           103.79        0.00\n",
            "\n",
            "[8 rows x 18 columns]\n"
          ],
          "name": "stdout"
        }
      ]
    },
    {
      "cell_type": "markdown",
      "metadata": {
        "id": "6osOQquicu2X",
        "colab_type": "text"
      },
      "source": [
        "# Data Perspective"
      ]
    },
    {
      "cell_type": "code",
      "metadata": {
        "id": "LzDsuulJcxPU",
        "colab_type": "code",
        "colab": {
          "base_uri": "https://localhost:8080/",
          "height": 136
        },
        "outputId": "93d0c51e-a2cc-456f-e17f-3056a691150b"
      },
      "source": [
        "# Total number of Trips by Year\n",
        "df_bixi.groupby(by='Year')['Bike_Move_Out'].sum()"
      ],
      "execution_count": 7,
      "outputs": [
        {
          "output_type": "execute_result",
          "data": {
            "text/plain": [
              "Year\n",
              "2014    3136276\n",
              "2015    3443883\n",
              "2016    4000080\n",
              "2017    4740357\n",
              "2018    5277541\n",
              "Name: Bike_Move_Out, dtype: int64"
            ]
          },
          "metadata": {
            "tags": []
          },
          "execution_count": 7
        }
      ]
    },
    {
      "cell_type": "code",
      "metadata": {
        "id": "hd-deID3gJ-4",
        "colab_type": "code",
        "colab": {
          "base_uri": "https://localhost:8080/",
          "height": 731
        },
        "outputId": "0ff4a9cd-486f-435d-ad42-491291d744ec"
      },
      "source": [
        "# Total number of Trips by Year and Months\n",
        "df_bixi.groupby(by=['Year', 'Month'])['Bike_Move_Out'].sum()"
      ],
      "execution_count": 8,
      "outputs": [
        {
          "output_type": "execute_result",
          "data": {
            "text/plain": [
              "Year  Month\n",
              "2014  4        108264\n",
              "      5        455261\n",
              "      6        525863\n",
              "      7        569352\n",
              "      8        556780\n",
              "      9        477545\n",
              "      10       331818\n",
              "      11       111393\n",
              "2015  4        150271\n",
              "      5        545678\n",
              "      6        547238\n",
              "      7        620865\n",
              "      8        597505\n",
              "      9        523322\n",
              "      10       332597\n",
              "      11       126407\n",
              "2016  4        194514\n",
              "      5        573739\n",
              "      6        645448\n",
              "      7        716335\n",
              "      8        688174\n",
              "      9        632218\n",
              "      10       397707\n",
              "      11       151945\n",
              "2017  4        196327\n",
              "      5        589852\n",
              "      6        748078\n",
              "      7        877338\n",
              "      8        859471\n",
              "      9        747633\n",
              "      10       569930\n",
              "      11       151728\n",
              "2018  4        236982\n",
              "      5        811910\n",
              "      6        888470\n",
              "      7        953031\n",
              "      8        956790\n",
              "      9        797520\n",
              "      10       488490\n",
              "      11       144348\n",
              "Name: Bike_Move_Out, dtype: int64"
            ]
          },
          "metadata": {
            "tags": []
          },
          "execution_count": 8
        }
      ]
    },
    {
      "cell_type": "code",
      "metadata": {
        "id": "D59JbzztjrbF",
        "colab_type": "code",
        "colab": {
          "base_uri": "https://localhost:8080/",
          "height": 295
        },
        "outputId": "f8c7c4be-af06-4c5c-d66b-9c7d4d860d31"
      },
      "source": [
        "# Monthly Trips Trend by Year\n",
        "years = [2014, 2015, 2016, 2017, 2018]\n",
        "for year in years:\n",
        "  df_bixi.loc[df_bixi['Year'] == year].groupby(by=['Month'])['Bike_Move_Out'].sum().plot(kind='line')\n",
        "  plt.legend(years)\n",
        "plt.title('Monthly BIXI Trips Trend by Year')\n",
        "plt.xlabel('Months')\n",
        "plt.ylabel('Number of Trips')\n",
        "plt.show()\n"
      ],
      "execution_count": 9,
      "outputs": [
        {
          "output_type": "display_data",
          "data": {
            "image/png": "[encoded data removed]",
            "text/plain": [
              "<Figure size 432x288 with 1 Axes>"
            ]
          },
          "metadata": {
            "tags": []
          }
        }
      ]
    },
    {
      "cell_type": "markdown",
      "metadata": {
        "id": "8h8z2DAktM8-",
        "colab_type": "text"
      },
      "source": [
        "From the above monthly trips trends of different years, we can see that May to August is the favorite time for BIXI bike riders."
      ]
    },
    {
      "cell_type": "code",
      "metadata": {
        "id": "kJNJ_lK0mBla",
        "colab_type": "code",
        "colab": {
          "base_uri": "https://localhost:8080/",
          "height": 646
        },
        "outputId": "f9752063-2741-46ac-b821-207a9d9c8b30"
      },
      "source": [
        "# Total number of Trips in Week days (0 = MOnday, 6 = Sunday) by Year\n",
        "df_bixi.groupby(by=['Year', 'Week_Day'])['Bike_Move_Out'].sum()"
      ],
      "execution_count": 11,
      "outputs": [
        {
          "output_type": "execute_result",
          "data": {
            "text/plain": [
              "Year  Week_Day\n",
              "2014  0           456641\n",
              "      1           462082\n",
              "      2           483623\n",
              "      3           492734\n",
              "      4           495352\n",
              "      5           384968\n",
              "      6           360876\n",
              "2015  0           454186\n",
              "      1           486587\n",
              "      2           535378\n",
              "      3           564342\n",
              "      4           544101\n",
              "      5           457947\n",
              "      6           401342\n",
              "2016  0           560265\n",
              "      1           627808\n",
              "      2           632176\n",
              "      3           607976\n",
              "      4           613929\n",
              "      5           503056\n",
              "      6           454870\n",
              "2017  0           601477\n",
              "      1           715465\n",
              "      2           761802\n",
              "      3           738848\n",
              "      4           664458\n",
              "      5           653033\n",
              "      6           605274\n",
              "2018  0           699145\n",
              "      1           790207\n",
              "      2           790648\n",
              "      3           818492\n",
              "      4           842520\n",
              "      5           709839\n",
              "      6           626690\n",
              "Name: Bike_Move_Out, dtype: int64"
            ]
          },
          "metadata": {
            "tags": []
          },
          "execution_count": 11
        }
      ]
    },
    {
      "cell_type": "code",
      "metadata": {
        "id": "e6XWjFm2nDxZ",
        "colab_type": "code",
        "colab": {
          "base_uri": "https://localhost:8080/",
          "height": 295
        },
        "outputId": "2f4299e4-4b03-4cb7-d757-fe06135f0ab4"
      },
      "source": [
        "# Week days Trips Trend by Year\n",
        "years = [2014, 2015, 2016, 2017, 2018]\n",
        "for year in years:\n",
        "  df_bixi.loc[df_bixi['Year'] == year].groupby(by=['Week_Day'])['Bike_Move_Out'].sum().plot(kind='line')\n",
        "  plt.legend(years)\n",
        "plt.title('Weekdays BIXI Trips Trend by Year')\n",
        "plt.xlabel('Week Day')\n",
        "plt.ylabel('Number of Trips')\n",
        "plt.show()"
      ],
      "execution_count": 14,
      "outputs": [
        {
          "output_type": "display_data",
          "data": {
            "image/png": "[encoded data removed]",
            "text/plain": [
              "<Figure size 432x288 with 1 Axes>"
            ]
          },
          "metadata": {
            "tags": []
          }
        }
      ]
    },
    {
      "cell_type": "code",
      "metadata": {
        "id": "x6J2eE3Xo9eV",
        "colab_type": "code",
        "colab": {
          "base_uri": "https://localhost:8080/",
          "height": 1000
        },
        "outputId": "37bc255f-50cc-4e9a-eb26-c71575775470"
      },
      "source": [
        "# Total number of Trips in each hour (24 hours) by Year\n",
        "df_bixi.groupby(by=['Year', 'Hour'])['Bike_Move_Out'].sum()"
      ],
      "execution_count": 15,
      "outputs": [
        {
          "output_type": "execute_result",
          "data": {
            "text/plain": [
              "Year  Hour\n",
              "2014  0        54669\n",
              "      1        33577\n",
              "      2        22248\n",
              "      3        18240\n",
              "      4         8384\n",
              "      5        11685\n",
              "      6        37099\n",
              "      7       131949\n",
              "      8       248511\n",
              "      9       149559\n",
              "      10      112951\n",
              "      11      139446\n",
              "      12      168080\n",
              "      13      168553\n",
              "      14      168181\n",
              "      15      195244\n",
              "      16      266428\n",
              "      17      334800\n",
              "      18      250114\n",
              "      19      181405\n",
              "      20      141183\n",
              "      21      117354\n",
              "      22       97774\n",
              "      23       78842\n",
              "2015  0        61379\n",
              "      1        37483\n",
              "      2        25425\n",
              "      3        20606\n",
              "      4         9122\n",
              "      5        12659\n",
              "               ...  \n",
              "2017  18      388004\n",
              "      19      286498\n",
              "      20      225834\n",
              "      21      185474\n",
              "      22      154734\n",
              "      23      121109\n",
              "2018  0        88419\n",
              "      1        56765\n",
              "      2        37950\n",
              "      3        32339\n",
              "      4        14718\n",
              "      5        21115\n",
              "      6        65182\n",
              "      7       213174\n",
              "      8       414004\n",
              "      9       254059\n",
              "      10      189963\n",
              "      11      224048\n",
              "      12      269594\n",
              "      13      278070\n",
              "      14      275566\n",
              "      15      319492\n",
              "      16      448939\n",
              "      17      564595\n",
              "      18      432982\n",
              "      19      320308\n",
              "      20      249266\n",
              "      21      209536\n",
              "      22      167342\n",
              "      23      130115\n",
              "Name: Bike_Move_Out, Length: 120, dtype: int64"
            ]
          },
          "metadata": {
            "tags": []
          },
          "execution_count": 15
        }
      ]
    },
    {
      "cell_type": "code",
      "metadata": {
        "id": "V7lG5LLkpVsZ",
        "colab_type": "code",
        "colab": {
          "base_uri": "https://localhost:8080/",
          "height": 295
        },
        "outputId": "1855f4ea-7083-45b1-c71e-8915223683a8"
      },
      "source": [
        "# Hourly Trips Trend by Year\n",
        "years = [2014, 2015, 2016, 2017, 2018]\n",
        "for year in years:\n",
        "  df_bixi.loc[df_bixi['Year'] == year].groupby(by=['Hour'])['Bike_Move_Out'].sum().plot(kind='line')\n",
        "  plt.legend(years)\n",
        "plt.title('Hourly BIXI Trips Trend by Year')\n",
        "plt.xlabel('Hour')\n",
        "plt.ylabel('Number of Trips')\n",
        "x = [0, 23]\n",
        "plt.xticks(np.arange(min(x), max(x)+1, 1))\n",
        "plt.show()"
      ],
      "execution_count": 25,
      "outputs": [
        {
          "output_type": "display_data",
          "data": {
            "image/png": "[encoded data removed]",
            "text/plain": [
              "<Figure size 432x288 with 1 Axes>"
            ]
          },
          "metadata": {
            "tags": []
          }
        }
      ]
    },
    {
      "cell_type": "code",
      "metadata": {
        "id": "azDgsQ32wRb-",
        "colab_type": "code",
        "colab": {
          "base_uri": "https://localhost:8080/",
          "height": 1000
        },
        "outputId": "d12d4d2a-ca5f-4de5-ee18-e9d249442ef5"
      },
      "source": [
        "# Popular 10 destination station (number of trips ended in a particular station) by year\n",
        "years = [2014, 2015, 2016, 2017, 2018]\n",
        "for year in years:\n",
        "  print('Top 10 destination station of Year', year)\n",
        "  print(df_bixi[df_bixi['Year']==year].groupby(by=['Station_Code'])['Bike_Move_In'].sum().nlargest(10))"
      ],
      "execution_count": 50,
      "outputs": [
        {
          "output_type": "stream",
          "text": [
            "Top 10 destination station of Year 2014\n",
            "Station_Code\n",
            "6184    43765\n",
            "6078    39310\n",
            "6064    34819\n",
            "6012    34664\n",
            "6015    31664\n",
            "6034    27886\n",
            "6100    26837\n",
            "6043    24032\n",
            "6032    23123\n",
            "6009    21978\n",
            "Name: Bike_Move_In, dtype: int64\n",
            "Top 10 destination station of Year 2015\n",
            "Station_Code\n",
            "6184    40485\n",
            "6078    35266\n",
            "6012    34500\n",
            "6015    34063\n",
            "6064    33055\n",
            "6100    32934\n",
            "6034    31877\n",
            "6043    30232\n",
            "6026    28575\n",
            "6009    25894\n",
            "Name: Bike_Move_In, dtype: int64\n",
            "Top 10 destination station of Year 2016\n",
            "Station_Code\n",
            "6078    46552\n",
            "6015    43093\n",
            "6100    42539\n",
            "6012    38621\n",
            "6064    37839\n",
            "6026    36563\n",
            "6184    35996\n",
            "6034    33511\n",
            "6136    30944\n",
            "6052    30428\n",
            "Name: Bike_Move_In, dtype: int64\n",
            "Top 10 destination station of Year 2017\n",
            "Station_Code\n",
            "6015    61122\n",
            "6100    57337\n",
            "6078    49204\n",
            "6012    48501\n",
            "6026    40818\n",
            "6184    39860\n",
            "6064    39181\n",
            "6406    37147\n",
            "6052    36776\n",
            "6034    34184\n",
            "Name: Bike_Move_In, dtype: int64\n",
            "Top 10 destination station of Year 2018\n",
            "Station_Code\n",
            "6015    55448\n",
            "6100    54463\n",
            "6012    49282\n",
            "6184    43422\n",
            "6026    42446\n",
            "6064    41833\n",
            "6043    38785\n",
            "6052    37150\n",
            "6136    34198\n",
            "6036    33761\n",
            "Name: Bike_Move_In, dtype: int64\n"
          ],
          "name": "stdout"
        }
      ]
    }
  ]
}