{
  "nbformat": 4,
  "nbformat_minor": 0,
  "metadata": {
    "colab": {
      "name": "bixi-montreal-data-wrangling.ipynb",
      "version": "0.3.2",
      "provenance": [],
      "collapsed_sections": [],
      "include_colab_link": true
    },
    "kernelspec": {
      "name": "python3",
      "display_name": "Python 3"
    }
  },
  "cells": [
    {
      "cell_type": "markdown",
      "metadata": {
        "id": "view-in-github",
        "colab_type": "text"
      },
      "source": [
        "<a href=\"https://colab.research.google.com/github/bmshahrier/bixi-montreal/blob/master/bixi_montreal_data_wrangling.ipynb\" target=\"_parent\"><img src=\"https://colab.research.google.com/assets/colab-badge.svg\" alt=\"Open In Colab\"/></a>"
      ]
    },
    {
      "cell_type": "markdown",
      "metadata": {
        "id": "V2XnVQXx4-hS",
        "colab_type": "text"
      },
      "source": [
        "# Import Libraries"
      ]
    },
    {
      "cell_type": "code",
      "metadata": {
        "id": "SH8Q-eQcG4oD",
        "colab_type": "code",
        "colab": {}
      },
      "source": [
        "import pandas as pd\n",
        "import numpy as np\n",
        "\n",
        "# convert scientific notation to decimals\n",
        "pd.set_option('display.float_format', lambda x: '%.2f' % x)"
      ],
      "execution_count": 0,
      "outputs": []
    },
    {
      "cell_type": "markdown",
      "metadata": {
        "id": "ApAf2YcD5a7B",
        "colab_type": "text"
      },
      "source": [
        "# Load Dataset from Google Drive"
      ]
    },
    {
      "cell_type": "code",
      "metadata": {
        "id": "XEuDDsKRd9IS",
        "colab_type": "code",
        "outputId": "ee4ec296-f4aa-4916-b939-f62f242698c7",
        "colab": {
          "base_uri": "https://localhost:8080/",
          "height": 122
        }
      },
      "source": [
        "# Make connection with Google Drive\n",
        "from google.colab import drive\n",
        "drive.mount('/content/gdrive')"
      ],
      "execution_count": 2,
      "outputs": [
        {
          "output_type": "stream",
          "text": [
            "Go to this URL in a browser: https://accounts.google.com/o/oauth2/auth?client_id=947318989803-6bn6qk8qdgf4n4g3pfee6491hc0brc4i.apps.googleusercontent.com&redirect_uri=urn%3Aietf%3Awg%3Aoauth%3A2.0%3Aoob&scope=email%20https%3A%2F%2Fwww.googleapis.com%2Fauth%2Fdocs.test%20https%3A%2F%2Fwww.googleapis.com%2Fauth%2Fdrive%20https%3A%2F%2Fwww.googleapis.com%2Fauth%2Fdrive.photos.readonly%20https%3A%2F%2Fwww.googleapis.com%2Fauth%2Fpeopleapi.readonly&response_type=code\n",
            "\n",
            "Enter your authorization code:\n",
            "··········\n",
            "Mounted at /content/gdrive\n"
          ],
          "name": "stdout"
        }
      ]
    },
    {
      "cell_type": "code",
      "metadata": {
        "id": "Ozezo8r8g5Fk",
        "colab_type": "code",
        "outputId": "c66b813b-ba56-43ca-802c-241b5a4359ad",
        "colab": {
          "base_uri": "https://localhost:8080/",
          "height": 119
        }
      },
      "source": [
        "# Get access the GDrive\n",
        "!ls -la /content/gdrive/My\\ Drive/Colab\\ Notebooks/"
      ],
      "execution_count": 3,
      "outputs": [
        {
          "output_type": "stream",
          "text": [
            "total 227\n",
            "-rw------- 1 root root  19814 Jul  1 20:56 bixi-data-wrangling-analysis.ipynb\n",
            "drwx------ 2 root root   4096 Jun  9 13:45 bixi-montreal\n",
            "-rw------- 1 root root  95927 Jun 12 09:51 bixi-montreal-classification-model.ipynb\n",
            "-rw------- 1 root root 107276 Jun 15 03:53 bixi-montreal-regression-model.ipynb\n",
            "-rw------- 1 root root   4455 Jun  8 03:41 Untitled0.ipynb\n"
          ],
          "name": "stdout"
        }
      ]
    },
    {
      "cell_type": "code",
      "metadata": {
        "id": "T4xpO_-ThFKE",
        "colab_type": "code",
        "outputId": "09670dd7-0a35-46a3-bfcb-a068c049cf58",
        "colab": {
          "base_uri": "https://localhost:8080/",
          "height": 153
        }
      },
      "source": [
        "# Explore the contents of GDrive\n",
        "!ls -la /content/gdrive/My\\ Drive/Colab\\ Notebooks/bixi-montreal/raw-data"
      ],
      "execution_count": 4,
      "outputs": [
        {
          "output_type": "stream",
          "text": [
            "total 28\n",
            "drwx------ 2 root root 4096 Jun 22 01:30 BIXIDataSet\n",
            "drwx------ 2 root root 4096 Jun  3 13:12 bixi-trip-2018\n",
            "drwx------ 2 root root 4096 Jun  2 19:14 MergeDataset\n",
            "drwx------ 2 root root 4096 Jun  1 11:37 mtl-weather-2018\n",
            "drwx------ 2 root root 4096 Jun 24 01:41 mtl-weather-daily\n",
            "drwx------ 2 root root 4096 Jun 24 01:40 mtl-weather-hourly\n",
            "drwx------ 2 root root 4096 Jun  7 01:48 WeatherDataset\n"
          ],
          "name": "stdout"
        }
      ]
    },
    {
      "cell_type": "code",
      "metadata": {
        "id": "d4oWkxRCaURg",
        "colab_type": "code",
        "colab": {}
      },
      "source": [
        "# Collect csv files with same pattern\n",
        "from glob import glob \n",
        "\n",
        "bixi_trip_data_2014to2018 = glob('/content/gdrive/My Drive/Colab Notebooks/bixi-montreal/raw-data/BIXIDataSet/OD*.csv')\n",
        "mtl_weather_hourly = glob('/content/gdrive/My Drive/Colab Notebooks/bixi-montreal/raw-data/mtl-weather-hourly/eng-hourly*.csv')\n"
      ],
      "execution_count": 0,
      "outputs": []
    },
    {
      "cell_type": "code",
      "metadata": {
        "id": "hISNZGvCXB6l",
        "colab_type": "code",
        "colab": {}
      },
      "source": [
        "# Load Station csv file to pandas DataFrame\n",
        "\n",
        "bixi_stations_2014 = pd.read_csv('/content/gdrive/My Drive/Colab Notebooks/bixi-montreal/raw-data/BIXIDataSet/Stations_2014.csv', error_bad_lines=False)\n",
        "bixi_stations_2014['year'] = 2014\n",
        "\n",
        "bixi_stations_2015 = pd.read_csv('/content/gdrive/My Drive/Colab Notebooks/bixi-montreal/raw-data/BIXIDataSet/Stations_2015.csv', error_bad_lines=False)\n",
        "bixi_stations_2015['year'] = 2015\n",
        "\n",
        "bixi_stations_2016 = pd.read_csv('/content/gdrive/My Drive/Colab Notebooks/bixi-montreal/raw-data/BIXIDataSet/Stations_2016.csv', error_bad_lines=False)\n",
        "bixi_stations_2016['year'] = 2016\n",
        "\n",
        "bixi_stations_2017 = pd.read_csv('/content/gdrive/My Drive/Colab Notebooks/bixi-montreal/raw-data/BIXIDataSet/Stations_2017.csv', error_bad_lines=False)\n",
        "bixi_stations_2017['year'] = 2017\n",
        "\n",
        "bixi_stations_2018 = pd.read_csv('/content/gdrive/My Drive/Colab Notebooks/bixi-montreal/raw-data/BIXIDataSet/Stations_2017.csv', error_bad_lines=False)\n",
        "bixi_stations_2018['year'] = 2018\n"
      ],
      "execution_count": 0,
      "outputs": []
    },
    {
      "cell_type": "code",
      "metadata": {
        "id": "3Kj1YrZnkE0s",
        "colab_type": "code",
        "colab": {}
      },
      "source": [
        "# Load Weather csv file to pandas DataFrame\n",
        "\n",
        "mtl_weather_daily_2014 = pd.read_csv('/content/gdrive/My Drive/Colab Notebooks/bixi-montreal/raw-data/mtl-weather-daily/eng-daily-01012014-12312014.csv', \n",
        "                                     header = 0, skiprows=24, error_bad_lines=False)\n",
        "mtl_weather_daily_2015 = pd.read_csv('/content/gdrive/My Drive/Colab Notebooks/bixi-montreal/raw-data/mtl-weather-daily/eng-daily-01012015-12312015.csv', \n",
        "                                     header = 0, skiprows=24, error_bad_lines=False)\n",
        "mtl_weather_daily_2016 = pd.read_csv('/content/gdrive/My Drive/Colab Notebooks/bixi-montreal/raw-data/mtl-weather-daily/eng-daily-01012016-12312016.csv', \n",
        "                                     header = 0, skiprows=24, error_bad_lines=False)\n",
        "mtl_weather_daily_2017 = pd.read_csv('/content/gdrive/My Drive/Colab Notebooks/bixi-montreal/raw-data/mtl-weather-daily/eng-daily-01012017-12312017.csv', \n",
        "                                     header = 0, skiprows=24, error_bad_lines=False)\n",
        "mtl_weather_daily_2018 = pd.read_csv('/content/gdrive/My Drive/Colab Notebooks/bixi-montreal/raw-data/mtl-weather-daily/eng-daily-01012018-12312018.csv', \n",
        "                                     header = 0, skiprows=24, error_bad_lines=False)\n"
      ],
      "execution_count": 0,
      "outputs": []
    },
    {
      "cell_type": "markdown",
      "metadata": {
        "id": "nRAEqKtmRuB4",
        "colab_type": "text"
      },
      "source": [
        "# Concate Dataset and Save in Google Drive"
      ]
    },
    {
      "cell_type": "code",
      "metadata": {
        "id": "_5hXxoFbjmG6",
        "colab_type": "code",
        "colab": {}
      },
      "source": [
        "# Concat all bixi trip dataset from 2014 to 2018\n",
        "\n",
        "dlist = [bixi_trip_data_2014to2018]\n",
        "\n",
        "for d in dlist:\n",
        "\n",
        "\t# Merge data using List comprehension\n",
        "\tdf_trip = pd.concat([pd.read_csv(f) for f in d])\n",
        "\n",
        "\t# Write or save merge data into csv file in specific Google Drive folder\n",
        "# \tdf_trip.to_csv('/content/gdrive/My Drive/Colab Notebooks/bixi-montreal/processed-data/bixi_trip_2014_2018.csv', index=False, encoding='utf-8-sig')\n"
      ],
      "execution_count": 0,
      "outputs": []
    },
    {
      "cell_type": "code",
      "metadata": {
        "id": "GNLWy05VRhOL",
        "colab_type": "code",
        "colab": {}
      },
      "source": [
        "# Concat bixi stations dataset from 2014 to 2018\n",
        "\n",
        "df_stations = pd.concat([bixi_stations_2014, bixi_stations_2015, bixi_stations_2016, bixi_stations_2017, bixi_stations_2018], axis = 0)\n",
        "\n",
        "# Write or save merge data into csv file in specific Google Drive folder\n",
        "# df_stations.to_csv('/content/gdrive/My Drive/Colab Notebooks/bixi-montreal/processed-data/bixi_stations_2014_2018.csv', index=False, encoding='utf-8-sig')\n"
      ],
      "execution_count": 0,
      "outputs": []
    },
    {
      "cell_type": "code",
      "metadata": {
        "id": "r3MVb06NpcRP",
        "colab_type": "code",
        "colab": {}
      },
      "source": [
        "# Concat Montreal Weather Hourly dataset from 2014 to 2018\n",
        "\n",
        "dlist = [mtl_weather_hourly]\n",
        "\n",
        "for d in dlist:\n",
        "\n",
        "\t# Merge data using List comprehension\n",
        "\tdf_mtl_weather_hourly = pd.concat([pd.read_csv(f, header = 1, skiprows=[1,2,3,4,5,6,7,8,9,10,11,12,13,14]) for f in d])\n",
        "\n",
        "\t# Write or save merge data into csv file in specific folder\n",
        "# \tdf_mtl_weather_hourly.to_csv('/content/gdrive/My Drive/Colab Notebooks/bixi-montreal/processed-data/mtl_weather_hourly_2014_2018.csv', index=False, encoding='utf-8-sig')\n"
      ],
      "execution_count": 0,
      "outputs": []
    },
    {
      "cell_type": "markdown",
      "metadata": {
        "id": "HTUeuO2zmXoU",
        "colab_type": "text"
      },
      "source": [
        "# Summarizing Data for Inspection"
      ]
    },
    {
      "cell_type": "code",
      "metadata": {
        "id": "q0GOrKdHmQmp",
        "colab_type": "code",
        "outputId": "25272f9e-ec4e-4e41-aa6d-936bee977285",
        "colab": {
          "base_uri": "https://localhost:8080/",
          "height": 374
        }
      },
      "source": [
        "# Summarizing BIXI Trip Data\n",
        "\n",
        "print(df_trip.shape)\n",
        "print(df_trip.columns)\n",
        "print(df_trip.head())\n",
        "print(df_trip.describe())"
      ],
      "execution_count": 11,
      "outputs": [
        {
          "output_type": "stream",
          "text": [
            "(20598137, 6)\n",
            "Index(['start_date', 'start_station_code', 'end_date', 'end_station_code',\n",
            "       'duration_sec', 'is_member'],\n",
            "      dtype='object')\n",
            "         start_date  start_station_code  ... duration_sec  is_member\n",
            "0  2014-04-15 00:01                6209  ...         1061          1\n",
            "1  2014-04-15 00:01                6214  ...          615          1\n",
            "2  2014-04-15 00:01                6164  ...         1031          1\n",
            "3  2014-04-15 00:01                6214  ...         1382          1\n",
            "4  2014-04-15 00:02                6149  ...          347          1\n",
            "\n",
            "[5 rows x 6 columns]\n",
            "       start_station_code  end_station_code  duration_sec   is_member\n",
            "count         20598137.00       20598137.00   20598137.00 20598137.00\n",
            "mean              6288.42           6282.71        814.05        0.83\n",
            "std                347.95            358.08        640.75        0.37\n",
            "min               4000.00           4000.00         61.00        0.00\n",
            "25%               6102.00           6088.00        371.00        1.00\n",
            "50%               6197.00           6188.00        648.00        1.00\n",
            "75%               6349.00           6362.00       1087.00        1.00\n",
            "max              10002.00          10002.00       7199.00        1.00\n"
          ],
          "name": "stdout"
        }
      ]
    },
    {
      "cell_type": "code",
      "metadata": {
        "id": "cBuZFXlBSPoq",
        "colab_type": "code",
        "outputId": "6d7c151c-5da8-48f6-fa84-5b6de254f2a1",
        "colab": {
          "base_uri": "https://localhost:8080/",
          "height": 153
        }
      },
      "source": [
        "# Summarizing BIXI Station Data\n",
        "\n",
        "print(df_stations.shape)\n",
        "print(df_stations.columns)\n",
        "print(df_stations.head())"
      ],
      "execution_count": 12,
      "outputs": [
        {
          "output_type": "stream",
          "text": [
            "(2476, 5)\n",
            "Index(['code', 'name', 'latitude', 'longitude', 'year'], dtype='object')\n",
            "   code                      name  latitude  longitude  year\n",
            "0  6209            Milton / Clark     45.51     -73.57  2014\n",
            "1  6436  Côte St-Antoine / Clarke     45.49     -73.60  2014\n",
            "2  6214           Square St-Louis     45.52     -73.57  2014\n",
            "3  6248     St-Dominique / Rachel     45.52     -73.58  2014\n",
            "4  6164        Chambord / Laurier     45.53     -73.58  2014\n"
          ],
          "name": "stdout"
        }
      ]
    },
    {
      "cell_type": "code",
      "metadata": {
        "id": "gS8_eBoPrQaz",
        "colab_type": "code",
        "outputId": "5609568c-b847-42fe-db6b-acfad5604430",
        "colab": {
          "base_uri": "https://localhost:8080/",
          "height": 476
        }
      },
      "source": [
        "# Summarizing Montreal Weather Hourly Data\n",
        "\n",
        "print(df_mtl_weather_hourly.shape)\n",
        "print(df_mtl_weather_hourly.columns)\n",
        "print(df_mtl_weather_hourly.head())\n",
        "print(df_mtl_weather_hourly.describe())"
      ],
      "execution_count": 13,
      "outputs": [
        {
          "output_type": "stream",
          "text": [
            "(43824, 24)\n",
            "Index(['Date/Time', 'Year', 'Month', 'Day', 'Time', 'Temp (°C)', 'Temp Flag',\n",
            "       'Dew Point Temp (°C)', 'Dew Point Temp Flag', 'Rel Hum (%)',\n",
            "       'Rel Hum Flag', 'Wind Dir (10s deg)', 'Wind Dir Flag',\n",
            "       'Wind Spd (km/h)', 'Wind Spd Flag', 'Visibility (km)',\n",
            "       'Visibility Flag', 'Stn Press (kPa)', 'Stn Press Flag', 'Hmdx',\n",
            "       'Hmdx Flag', 'Wind Chill', 'Wind Chill Flag', 'Weather'],\n",
            "      dtype='object')\n",
            "          Date/Time  Year  Month  ...  Wind Chill Wind Chill Flag        Weather\n",
            "0  2014-01-01 00:00  2014      1  ...      -25.00             nan            NaN\n",
            "1  2014-01-01 01:00  2014      1  ...      -27.00             nan  Mostly Cloudy\n",
            "2  2014-01-01 02:00  2014      1  ...      -25.00             nan            NaN\n",
            "3  2014-01-01 03:00  2014      1  ...      -24.00             nan            NaN\n",
            "4  2014-01-01 04:00  2014      1  ...      -22.00             nan         Cloudy\n",
            "\n",
            "[5 rows x 24 columns]\n",
            "          Year    Month      Day  ...  Hmdx Flag  Wind Chill  Wind Chill Flag\n",
            "count 43824.00 43824.00 43824.00  ...       0.00    12445.00             0.00\n",
            "mean   2016.00     6.52    15.73  ...        nan      -14.18              nan\n",
            "std       1.41     3.45     8.80  ...        nan        7.57              nan\n",
            "min    2014.00     1.00     1.00  ...        nan      -41.00              nan\n",
            "25%    2015.00     4.00     8.00  ...        nan      -19.00              nan\n",
            "50%    2016.00     7.00    16.00  ...        nan      -13.00              nan\n",
            "75%    2017.00    10.00    23.00  ...        nan       -8.00              nan\n",
            "max    2018.00    12.00    31.00  ...        nan        0.00              nan\n",
            "\n",
            "[8 rows x 17 columns]\n"
          ],
          "name": "stdout"
        }
      ]
    },
    {
      "cell_type": "code",
      "metadata": {
        "id": "Gad-XxjJ0U3x",
        "colab_type": "code",
        "outputId": "a9b2d6a5-c65d-4c9a-9869-65eb0ed91eef",
        "colab": {
          "base_uri": "https://localhost:8080/",
          "height": 306
        }
      },
      "source": [
        "# Keep required columns from weather dataset\n",
        "\n",
        "new_order = ['Date/Time', 'Year', 'Month', 'Day', 'Time', 'Temp (°C)', 'Dew Point Temp (°C)', 'Rel Hum (%)', 'Wind Dir (10s deg)', 'Wind Spd (km/h)', \n",
        "                         'Visibility (km)', 'Stn Press (kPa)', 'Wind Chill', 'Weather']\n",
        "df_mtl_weather_hourly = df_mtl_weather_hourly[new_order]\n",
        "df_mtl_weather_hourly.head()"
      ],
      "execution_count": 14,
      "outputs": [
        {
          "output_type": "execute_result",
          "data": {
            "text/html": [
              "<div>\n",
              "<style scoped>\n",
              "    .dataframe tbody tr th:only-of-type {\n",
              "        vertical-align: middle;\n",
              "    }\n",
              "\n",
              "    .dataframe tbody tr th {\n",
              "        vertical-align: top;\n",
              "    }\n",
              "\n",
              "    .dataframe thead th {\n",
              "        text-align: right;\n",
              "    }\n",
              "</style>\n",
              "<table border=\"1\" class=\"dataframe\">\n",
              "  <thead>\n",
              "    <tr style=\"text-align: right;\">\n",
              "      <th></th>\n",
              "      <th>Date/Time</th>\n",
              "      <th>Year</th>\n",
              "      <th>Month</th>\n",
              "      <th>Day</th>\n",
              "      <th>Time</th>\n",
              "      <th>Temp (°C)</th>\n",
              "      <th>Dew Point Temp (°C)</th>\n",
              "      <th>Rel Hum (%)</th>\n",
              "      <th>Wind Dir (10s deg)</th>\n",
              "      <th>Wind Spd (km/h)</th>\n",
              "      <th>Visibility (km)</th>\n",
              "      <th>Stn Press (kPa)</th>\n",
              "      <th>Wind Chill</th>\n",
              "      <th>Weather</th>\n",
              "    </tr>\n",
              "  </thead>\n",
              "  <tbody>\n",
              "    <tr>\n",
              "      <th>0</th>\n",
              "      <td>2014-01-01 00:00</td>\n",
              "      <td>2014</td>\n",
              "      <td>1</td>\n",
              "      <td>1</td>\n",
              "      <td>00:00</td>\n",
              "      <td>-19.70</td>\n",
              "      <td>-21.80</td>\n",
              "      <td>84.00</td>\n",
              "      <td>24.00</td>\n",
              "      <td>6.00</td>\n",
              "      <td>24.10</td>\n",
              "      <td>101.63</td>\n",
              "      <td>-25.00</td>\n",
              "      <td>NaN</td>\n",
              "    </tr>\n",
              "    <tr>\n",
              "      <th>1</th>\n",
              "      <td>2014-01-01 01:00</td>\n",
              "      <td>2014</td>\n",
              "      <td>1</td>\n",
              "      <td>1</td>\n",
              "      <td>01:00</td>\n",
              "      <td>-18.80</td>\n",
              "      <td>-21.00</td>\n",
              "      <td>83.00</td>\n",
              "      <td>23.00</td>\n",
              "      <td>13.00</td>\n",
              "      <td>24.10</td>\n",
              "      <td>101.69</td>\n",
              "      <td>-27.00</td>\n",
              "      <td>Mostly Cloudy</td>\n",
              "    </tr>\n",
              "    <tr>\n",
              "      <th>2</th>\n",
              "      <td>2014-01-01 02:00</td>\n",
              "      <td>2014</td>\n",
              "      <td>1</td>\n",
              "      <td>1</td>\n",
              "      <td>02:00</td>\n",
              "      <td>-18.50</td>\n",
              "      <td>-20.90</td>\n",
              "      <td>82.00</td>\n",
              "      <td>23.00</td>\n",
              "      <td>9.00</td>\n",
              "      <td>24.10</td>\n",
              "      <td>101.79</td>\n",
              "      <td>-25.00</td>\n",
              "      <td>NaN</td>\n",
              "    </tr>\n",
              "    <tr>\n",
              "      <th>3</th>\n",
              "      <td>2014-01-01 03:00</td>\n",
              "      <td>2014</td>\n",
              "      <td>1</td>\n",
              "      <td>1</td>\n",
              "      <td>03:00</td>\n",
              "      <td>-16.90</td>\n",
              "      <td>-19.40</td>\n",
              "      <td>81.00</td>\n",
              "      <td>26.00</td>\n",
              "      <td>10.00</td>\n",
              "      <td>24.10</td>\n",
              "      <td>101.84</td>\n",
              "      <td>-24.00</td>\n",
              "      <td>NaN</td>\n",
              "    </tr>\n",
              "    <tr>\n",
              "      <th>4</th>\n",
              "      <td>2014-01-01 04:00</td>\n",
              "      <td>2014</td>\n",
              "      <td>1</td>\n",
              "      <td>1</td>\n",
              "      <td>04:00</td>\n",
              "      <td>-16.50</td>\n",
              "      <td>-19.00</td>\n",
              "      <td>81.00</td>\n",
              "      <td>24.00</td>\n",
              "      <td>8.00</td>\n",
              "      <td>24.10</td>\n",
              "      <td>101.88</td>\n",
              "      <td>-22.00</td>\n",
              "      <td>Cloudy</td>\n",
              "    </tr>\n",
              "  </tbody>\n",
              "</table>\n",
              "</div>"
            ],
            "text/plain": [
              "          Date/Time  Year  Month  ...  Stn Press (kPa) Wind Chill        Weather\n",
              "0  2014-01-01 00:00  2014      1  ...           101.63     -25.00            NaN\n",
              "1  2014-01-01 01:00  2014      1  ...           101.69     -27.00  Mostly Cloudy\n",
              "2  2014-01-01 02:00  2014      1  ...           101.79     -25.00            NaN\n",
              "3  2014-01-01 03:00  2014      1  ...           101.84     -24.00            NaN\n",
              "4  2014-01-01 04:00  2014      1  ...           101.88     -22.00         Cloudy\n",
              "\n",
              "[5 rows x 14 columns]"
            ]
          },
          "metadata": {
            "tags": []
          },
          "execution_count": 14
        }
      ]
    },
    {
      "cell_type": "markdown",
      "metadata": {
        "id": "ap83zEV0myxA",
        "colab_type": "text"
      },
      "source": [
        "# Converting Data Types"
      ]
    },
    {
      "cell_type": "code",
      "metadata": {
        "id": "3WPyQCZInZCj",
        "colab_type": "code",
        "outputId": "8614e950-3376-4905-8fba-b485ccf72e6e",
        "colab": {
          "base_uri": "https://localhost:8080/",
          "height": 136
        }
      },
      "source": [
        "# Get the Data Type of BIXI Trip Dataset\n",
        "df_trip.dtypes"
      ],
      "execution_count": 15,
      "outputs": [
        {
          "output_type": "execute_result",
          "data": {
            "text/plain": [
              "start_date            object\n",
              "start_station_code     int64\n",
              "end_date              object\n",
              "end_station_code       int64\n",
              "duration_sec           int64\n",
              "is_member              int64\n",
              "dtype: object"
            ]
          },
          "metadata": {
            "tags": []
          },
          "execution_count": 15
        }
      ]
    },
    {
      "cell_type": "code",
      "metadata": {
        "id": "nM-M_Lq7nghj",
        "colab_type": "code",
        "outputId": "46402a80-bc56-4400-b266-54474b8978cb",
        "colab": {
          "base_uri": "https://localhost:8080/",
          "height": 204
        }
      },
      "source": [
        "# # Convert Data Type\n",
        "# df_trip['start_station_code'] = df_trip['start_station_code'].astype(str)\n",
        "# df_trip['end_station_code'] = df_trip['end_station_code'].astype(str)\n",
        "\n",
        "\n",
        "# BIXI Trip Dataset: Transform object/string Start Date and End Date Columns data to DateTime\n",
        "df_trip['start_date'] = pd.to_datetime(df_trip['start_date'])\n",
        "df_trip['end_date'] = pd.to_datetime(df_trip['end_date'])\n",
        "df_trip.head()"
      ],
      "execution_count": 16,
      "outputs": [
        {
          "output_type": "execute_result",
          "data": {
            "text/html": [
              "<div>\n",
              "<style scoped>\n",
              "    .dataframe tbody tr th:only-of-type {\n",
              "        vertical-align: middle;\n",
              "    }\n",
              "\n",
              "    .dataframe tbody tr th {\n",
              "        vertical-align: top;\n",
              "    }\n",
              "\n",
              "    .dataframe thead th {\n",
              "        text-align: right;\n",
              "    }\n",
              "</style>\n",
              "<table border=\"1\" class=\"dataframe\">\n",
              "  <thead>\n",
              "    <tr style=\"text-align: right;\">\n",
              "      <th></th>\n",
              "      <th>start_date</th>\n",
              "      <th>start_station_code</th>\n",
              "      <th>end_date</th>\n",
              "      <th>end_station_code</th>\n",
              "      <th>duration_sec</th>\n",
              "      <th>is_member</th>\n",
              "    </tr>\n",
              "  </thead>\n",
              "  <tbody>\n",
              "    <tr>\n",
              "      <th>0</th>\n",
              "      <td>2014-04-15 00:01:00</td>\n",
              "      <td>6209</td>\n",
              "      <td>2014-04-15 00:18:00</td>\n",
              "      <td>6436</td>\n",
              "      <td>1061</td>\n",
              "      <td>1</td>\n",
              "    </tr>\n",
              "    <tr>\n",
              "      <th>1</th>\n",
              "      <td>2014-04-15 00:01:00</td>\n",
              "      <td>6214</td>\n",
              "      <td>2014-04-15 00:11:00</td>\n",
              "      <td>6248</td>\n",
              "      <td>615</td>\n",
              "      <td>1</td>\n",
              "    </tr>\n",
              "    <tr>\n",
              "      <th>2</th>\n",
              "      <td>2014-04-15 00:01:00</td>\n",
              "      <td>6164</td>\n",
              "      <td>2014-04-15 00:18:00</td>\n",
              "      <td>6216</td>\n",
              "      <td>1031</td>\n",
              "      <td>1</td>\n",
              "    </tr>\n",
              "    <tr>\n",
              "      <th>3</th>\n",
              "      <td>2014-04-15 00:01:00</td>\n",
              "      <td>6214</td>\n",
              "      <td>2014-04-15 00:24:00</td>\n",
              "      <td>6082</td>\n",
              "      <td>1382</td>\n",
              "      <td>1</td>\n",
              "    </tr>\n",
              "    <tr>\n",
              "      <th>4</th>\n",
              "      <td>2014-04-15 00:02:00</td>\n",
              "      <td>6149</td>\n",
              "      <td>2014-04-15 00:08:00</td>\n",
              "      <td>6265</td>\n",
              "      <td>347</td>\n",
              "      <td>1</td>\n",
              "    </tr>\n",
              "  </tbody>\n",
              "</table>\n",
              "</div>"
            ],
            "text/plain": [
              "           start_date  start_station_code  ... duration_sec  is_member\n",
              "0 2014-04-15 00:01:00                6209  ...         1061          1\n",
              "1 2014-04-15 00:01:00                6214  ...          615          1\n",
              "2 2014-04-15 00:01:00                6164  ...         1031          1\n",
              "3 2014-04-15 00:01:00                6214  ...         1382          1\n",
              "4 2014-04-15 00:02:00                6149  ...          347          1\n",
              "\n",
              "[5 rows x 6 columns]"
            ]
          },
          "metadata": {
            "tags": []
          },
          "execution_count": 16
        }
      ]
    },
    {
      "cell_type": "code",
      "metadata": {
        "id": "DMD-orwBSkbf",
        "colab_type": "code",
        "outputId": "d8bca8ab-201b-46c0-8342-91e7b61c0bc8",
        "colab": {
          "base_uri": "https://localhost:8080/",
          "height": 136
        }
      },
      "source": [
        "# COnfirm converting the Data Type of BIXI Trip Dataset\n",
        "df_trip.dtypes"
      ],
      "execution_count": 17,
      "outputs": [
        {
          "output_type": "execute_result",
          "data": {
            "text/plain": [
              "start_date            datetime64[ns]\n",
              "start_station_code             int64\n",
              "end_date              datetime64[ns]\n",
              "end_station_code               int64\n",
              "duration_sec                   int64\n",
              "is_member                      int64\n",
              "dtype: object"
            ]
          },
          "metadata": {
            "tags": []
          },
          "execution_count": 17
        }
      ]
    },
    {
      "cell_type": "code",
      "metadata": {
        "id": "p-gVb4zxnrd0",
        "colab_type": "code",
        "outputId": "62a20dcd-28f8-4fe2-9712-058967bf584c",
        "colab": {
          "base_uri": "https://localhost:8080/",
          "height": 119
        }
      },
      "source": [
        "# Get the Data Type of each column of Station Data\n",
        "df_stations.dtypes"
      ],
      "execution_count": 18,
      "outputs": [
        {
          "output_type": "execute_result",
          "data": {
            "text/plain": [
              "code           int64\n",
              "name          object\n",
              "latitude     float64\n",
              "longitude    float64\n",
              "year           int64\n",
              "dtype: object"
            ]
          },
          "metadata": {
            "tags": []
          },
          "execution_count": 18
        }
      ]
    },
    {
      "cell_type": "code",
      "metadata": {
        "id": "eb6YVZTrjSZm",
        "colab_type": "code",
        "outputId": "45bc8d00-62ee-4ade-a8cc-aefdb744a85d",
        "colab": {
          "base_uri": "https://localhost:8080/",
          "height": 204
        }
      },
      "source": [
        "# Convert Data Type\n",
        "# df_stations['code'] = df_stations['code'].astype(str)\n",
        "\n",
        "df_stations.tail()"
      ],
      "execution_count": 19,
      "outputs": [
        {
          "output_type": "execute_result",
          "data": {
            "text/html": [
              "<div>\n",
              "<style scoped>\n",
              "    .dataframe tbody tr th:only-of-type {\n",
              "        vertical-align: middle;\n",
              "    }\n",
              "\n",
              "    .dataframe tbody tr th {\n",
              "        vertical-align: top;\n",
              "    }\n",
              "\n",
              "    .dataframe thead th {\n",
              "        text-align: right;\n",
              "    }\n",
              "</style>\n",
              "<table border=\"1\" class=\"dataframe\">\n",
              "  <thead>\n",
              "    <tr style=\"text-align: right;\">\n",
              "      <th></th>\n",
              "      <th>code</th>\n",
              "      <th>name</th>\n",
              "      <th>latitude</th>\n",
              "      <th>longitude</th>\n",
              "      <th>year</th>\n",
              "    </tr>\n",
              "  </thead>\n",
              "  <tbody>\n",
              "    <tr>\n",
              "      <th>541</th>\n",
              "      <td>7075</td>\n",
              "      <td>CHSLD Éloria-Lepage (de la Pépinière / de Mars...</td>\n",
              "      <td>45.58</td>\n",
              "      <td>-73.54</td>\n",
              "      <td>2018</td>\n",
              "    </tr>\n",
              "    <tr>\n",
              "      <th>542</th>\n",
              "      <td>6721</td>\n",
              "      <td>Métro Cadillac (Sherbrooke / de Cadillac)</td>\n",
              "      <td>45.58</td>\n",
              "      <td>-73.55</td>\n",
              "      <td>2018</td>\n",
              "    </tr>\n",
              "    <tr>\n",
              "      <th>543</th>\n",
              "      <td>7044</td>\n",
              "      <td>Hôpital Santa Cabrini (St-Zotique / Jeanne-Jugan)</td>\n",
              "      <td>45.58</td>\n",
              "      <td>-73.57</td>\n",
              "      <td>2018</td>\n",
              "    </tr>\n",
              "    <tr>\n",
              "      <th>544</th>\n",
              "      <td>6739</td>\n",
              "      <td>de Repentigny / Sherbrooke</td>\n",
              "      <td>45.58</td>\n",
              "      <td>-73.54</td>\n",
              "      <td>2018</td>\n",
              "    </tr>\n",
              "    <tr>\n",
              "      <th>545</th>\n",
              "      <td>7016</td>\n",
              "      <td>Métro Langelier (Sherbrooke / Langelier)</td>\n",
              "      <td>45.58</td>\n",
              "      <td>-73.54</td>\n",
              "      <td>2018</td>\n",
              "    </tr>\n",
              "  </tbody>\n",
              "</table>\n",
              "</div>"
            ],
            "text/plain": [
              "     code                                               name  ...  longitude  year\n",
              "541  7075  CHSLD Éloria-Lepage (de la Pépinière / de Mars...  ...     -73.54  2018\n",
              "542  6721          Métro Cadillac (Sherbrooke / de Cadillac)  ...     -73.55  2018\n",
              "543  7044  Hôpital Santa Cabrini (St-Zotique / Jeanne-Jugan)  ...     -73.57  2018\n",
              "544  6739                         de Repentigny / Sherbrooke  ...     -73.54  2018\n",
              "545  7016           Métro Langelier (Sherbrooke / Langelier)  ...     -73.54  2018\n",
              "\n",
              "[5 rows x 5 columns]"
            ]
          },
          "metadata": {
            "tags": []
          },
          "execution_count": 19
        }
      ]
    },
    {
      "cell_type": "code",
      "metadata": {
        "id": "fV0KaOPyqTXL",
        "colab_type": "code",
        "outputId": "b9e713d6-f9cc-40d0-b64a-8ecdf4de1363",
        "colab": {
          "base_uri": "https://localhost:8080/",
          "height": 272
        }
      },
      "source": [
        "# Montreal Weather hourly Data: Get the Data Type of each column \n",
        "df_mtl_weather_hourly.dtypes"
      ],
      "execution_count": 20,
      "outputs": [
        {
          "output_type": "execute_result",
          "data": {
            "text/plain": [
              "Date/Time               object\n",
              "Year                     int64\n",
              "Month                    int64\n",
              "Day                      int64\n",
              "Time                    object\n",
              "Temp (°C)              float64\n",
              "Dew Point Temp (°C)    float64\n",
              "Rel Hum (%)            float64\n",
              "Wind Dir (10s deg)     float64\n",
              "Wind Spd (km/h)        float64\n",
              "Visibility (km)        float64\n",
              "Stn Press (kPa)        float64\n",
              "Wind Chill             float64\n",
              "Weather                 object\n",
              "dtype: object"
            ]
          },
          "metadata": {
            "tags": []
          },
          "execution_count": 20
        }
      ]
    },
    {
      "cell_type": "code",
      "metadata": {
        "id": "tRVGoYnFqfH5",
        "colab_type": "code",
        "outputId": "c632122c-26f6-4108-f7ec-0936093d90d5",
        "colab": {
          "base_uri": "https://localhost:8080/",
          "height": 306
        }
      },
      "source": [
        "# Montreal Weather Hourly Data: Transform object/string Date/Time data to datetime\n",
        "df_mtl_weather_hourly['Date/Time'] = pd.to_datetime(df_mtl_weather_hourly['Date/Time'])\n",
        "\n",
        "df_mtl_weather_hourly.head()"
      ],
      "execution_count": 21,
      "outputs": [
        {
          "output_type": "execute_result",
          "data": {
            "text/html": [
              "<div>\n",
              "<style scoped>\n",
              "    .dataframe tbody tr th:only-of-type {\n",
              "        vertical-align: middle;\n",
              "    }\n",
              "\n",
              "    .dataframe tbody tr th {\n",
              "        vertical-align: top;\n",
              "    }\n",
              "\n",
              "    .dataframe thead th {\n",
              "        text-align: right;\n",
              "    }\n",
              "</style>\n",
              "<table border=\"1\" class=\"dataframe\">\n",
              "  <thead>\n",
              "    <tr style=\"text-align: right;\">\n",
              "      <th></th>\n",
              "      <th>Date/Time</th>\n",
              "      <th>Year</th>\n",
              "      <th>Month</th>\n",
              "      <th>Day</th>\n",
              "      <th>Time</th>\n",
              "      <th>Temp (°C)</th>\n",
              "      <th>Dew Point Temp (°C)</th>\n",
              "      <th>Rel Hum (%)</th>\n",
              "      <th>Wind Dir (10s deg)</th>\n",
              "      <th>Wind Spd (km/h)</th>\n",
              "      <th>Visibility (km)</th>\n",
              "      <th>Stn Press (kPa)</th>\n",
              "      <th>Wind Chill</th>\n",
              "      <th>Weather</th>\n",
              "    </tr>\n",
              "  </thead>\n",
              "  <tbody>\n",
              "    <tr>\n",
              "      <th>0</th>\n",
              "      <td>2014-01-01 00:00:00</td>\n",
              "      <td>2014</td>\n",
              "      <td>1</td>\n",
              "      <td>1</td>\n",
              "      <td>00:00</td>\n",
              "      <td>-19.70</td>\n",
              "      <td>-21.80</td>\n",
              "      <td>84.00</td>\n",
              "      <td>24.00</td>\n",
              "      <td>6.00</td>\n",
              "      <td>24.10</td>\n",
              "      <td>101.63</td>\n",
              "      <td>-25.00</td>\n",
              "      <td>NaN</td>\n",
              "    </tr>\n",
              "    <tr>\n",
              "      <th>1</th>\n",
              "      <td>2014-01-01 01:00:00</td>\n",
              "      <td>2014</td>\n",
              "      <td>1</td>\n",
              "      <td>1</td>\n",
              "      <td>01:00</td>\n",
              "      <td>-18.80</td>\n",
              "      <td>-21.00</td>\n",
              "      <td>83.00</td>\n",
              "      <td>23.00</td>\n",
              "      <td>13.00</td>\n",
              "      <td>24.10</td>\n",
              "      <td>101.69</td>\n",
              "      <td>-27.00</td>\n",
              "      <td>Mostly Cloudy</td>\n",
              "    </tr>\n",
              "    <tr>\n",
              "      <th>2</th>\n",
              "      <td>2014-01-01 02:00:00</td>\n",
              "      <td>2014</td>\n",
              "      <td>1</td>\n",
              "      <td>1</td>\n",
              "      <td>02:00</td>\n",
              "      <td>-18.50</td>\n",
              "      <td>-20.90</td>\n",
              "      <td>82.00</td>\n",
              "      <td>23.00</td>\n",
              "      <td>9.00</td>\n",
              "      <td>24.10</td>\n",
              "      <td>101.79</td>\n",
              "      <td>-25.00</td>\n",
              "      <td>NaN</td>\n",
              "    </tr>\n",
              "    <tr>\n",
              "      <th>3</th>\n",
              "      <td>2014-01-01 03:00:00</td>\n",
              "      <td>2014</td>\n",
              "      <td>1</td>\n",
              "      <td>1</td>\n",
              "      <td>03:00</td>\n",
              "      <td>-16.90</td>\n",
              "      <td>-19.40</td>\n",
              "      <td>81.00</td>\n",
              "      <td>26.00</td>\n",
              "      <td>10.00</td>\n",
              "      <td>24.10</td>\n",
              "      <td>101.84</td>\n",
              "      <td>-24.00</td>\n",
              "      <td>NaN</td>\n",
              "    </tr>\n",
              "    <tr>\n",
              "      <th>4</th>\n",
              "      <td>2014-01-01 04:00:00</td>\n",
              "      <td>2014</td>\n",
              "      <td>1</td>\n",
              "      <td>1</td>\n",
              "      <td>04:00</td>\n",
              "      <td>-16.50</td>\n",
              "      <td>-19.00</td>\n",
              "      <td>81.00</td>\n",
              "      <td>24.00</td>\n",
              "      <td>8.00</td>\n",
              "      <td>24.10</td>\n",
              "      <td>101.88</td>\n",
              "      <td>-22.00</td>\n",
              "      <td>Cloudy</td>\n",
              "    </tr>\n",
              "  </tbody>\n",
              "</table>\n",
              "</div>"
            ],
            "text/plain": [
              "            Date/Time  Year  Month  ...  Stn Press (kPa) Wind Chill        Weather\n",
              "0 2014-01-01 00:00:00  2014      1  ...           101.63     -25.00            NaN\n",
              "1 2014-01-01 01:00:00  2014      1  ...           101.69     -27.00  Mostly Cloudy\n",
              "2 2014-01-01 02:00:00  2014      1  ...           101.79     -25.00            NaN\n",
              "3 2014-01-01 03:00:00  2014      1  ...           101.84     -24.00            NaN\n",
              "4 2014-01-01 04:00:00  2014      1  ...           101.88     -22.00         Cloudy\n",
              "\n",
              "[5 rows x 14 columns]"
            ]
          },
          "metadata": {
            "tags": []
          },
          "execution_count": 21
        }
      ]
    },
    {
      "cell_type": "markdown",
      "metadata": {
        "id": "x6HiEyG_rStr",
        "colab_type": "text"
      },
      "source": [
        "# Creating New Column"
      ]
    },
    {
      "cell_type": "code",
      "metadata": {
        "id": "ckVxlMOeoJPP",
        "colab_type": "code",
        "outputId": "af01d1dd-d9d2-4cea-854c-26111f62bdd7",
        "colab": {
          "base_uri": "https://localhost:8080/",
          "height": 394
        }
      },
      "source": [
        "# BIXI Trip Dataset: Create new columns based on the start_date and end_date(month, year, day, time)\n",
        "df_trip['start_year'] = df_trip['start_date'].dt.year\n",
        "df_trip['start_month'] = df_trip['start_date'].dt.month\n",
        "df_trip['start_day'] = df_trip['start_date'].dt.day\n",
        "df_trip['start_week_day'] = df_trip['start_date'].dt.dayofweek\n",
        "df_trip['start_hour'] = df_trip['start_date'].dt.hour\n",
        "df_trip['start_minute'] = df_trip['start_date'].dt.minute\n",
        "df_trip['end_year'] = df_trip['end_date'].dt.year\n",
        "df_trip['end_month'] = df_trip['end_date'].dt.month\n",
        "df_trip['end_day'] = df_trip['end_date'].dt.day\n",
        "df_trip['end_week_day'] = df_trip['end_date'].dt.dayofweek\n",
        "df_trip['end_hour'] = df_trip['end_date'].dt.hour\n",
        "df_trip['end_minute'] = df_trip['end_date'].dt.minute\n",
        "\n",
        "df_trip.head()"
      ],
      "execution_count": 22,
      "outputs": [
        {
          "output_type": "execute_result",
          "data": {
            "text/html": [
              "<div>\n",
              "<style scoped>\n",
              "    .dataframe tbody tr th:only-of-type {\n",
              "        vertical-align: middle;\n",
              "    }\n",
              "\n",
              "    .dataframe tbody tr th {\n",
              "        vertical-align: top;\n",
              "    }\n",
              "\n",
              "    .dataframe thead th {\n",
              "        text-align: right;\n",
              "    }\n",
              "</style>\n",
              "<table border=\"1\" class=\"dataframe\">\n",
              "  <thead>\n",
              "    <tr style=\"text-align: right;\">\n",
              "      <th></th>\n",
              "      <th>start_date</th>\n",
              "      <th>start_station_code</th>\n",
              "      <th>end_date</th>\n",
              "      <th>end_station_code</th>\n",
              "      <th>duration_sec</th>\n",
              "      <th>is_member</th>\n",
              "      <th>start_year</th>\n",
              "      <th>start_month</th>\n",
              "      <th>start_day</th>\n",
              "      <th>start_week_day</th>\n",
              "      <th>start_hour</th>\n",
              "      <th>start_minute</th>\n",
              "      <th>end_year</th>\n",
              "      <th>end_month</th>\n",
              "      <th>end_day</th>\n",
              "      <th>end_week_day</th>\n",
              "      <th>end_hour</th>\n",
              "      <th>end_minute</th>\n",
              "    </tr>\n",
              "  </thead>\n",
              "  <tbody>\n",
              "    <tr>\n",
              "      <th>0</th>\n",
              "      <td>2014-04-15 00:01:00</td>\n",
              "      <td>6209</td>\n",
              "      <td>2014-04-15 00:18:00</td>\n",
              "      <td>6436</td>\n",
              "      <td>1061</td>\n",
              "      <td>1</td>\n",
              "      <td>2014</td>\n",
              "      <td>4</td>\n",
              "      <td>15</td>\n",
              "      <td>1</td>\n",
              "      <td>0</td>\n",
              "      <td>1</td>\n",
              "      <td>2014</td>\n",
              "      <td>4</td>\n",
              "      <td>15</td>\n",
              "      <td>1</td>\n",
              "      <td>0</td>\n",
              "      <td>18</td>\n",
              "    </tr>\n",
              "    <tr>\n",
              "      <th>1</th>\n",
              "      <td>2014-04-15 00:01:00</td>\n",
              "      <td>6214</td>\n",
              "      <td>2014-04-15 00:11:00</td>\n",
              "      <td>6248</td>\n",
              "      <td>615</td>\n",
              "      <td>1</td>\n",
              "      <td>2014</td>\n",
              "      <td>4</td>\n",
              "      <td>15</td>\n",
              "      <td>1</td>\n",
              "      <td>0</td>\n",
              "      <td>1</td>\n",
              "      <td>2014</td>\n",
              "      <td>4</td>\n",
              "      <td>15</td>\n",
              "      <td>1</td>\n",
              "      <td>0</td>\n",
              "      <td>11</td>\n",
              "    </tr>\n",
              "    <tr>\n",
              "      <th>2</th>\n",
              "      <td>2014-04-15 00:01:00</td>\n",
              "      <td>6164</td>\n",
              "      <td>2014-04-15 00:18:00</td>\n",
              "      <td>6216</td>\n",
              "      <td>1031</td>\n",
              "      <td>1</td>\n",
              "      <td>2014</td>\n",
              "      <td>4</td>\n",
              "      <td>15</td>\n",
              "      <td>1</td>\n",
              "      <td>0</td>\n",
              "      <td>1</td>\n",
              "      <td>2014</td>\n",
              "      <td>4</td>\n",
              "      <td>15</td>\n",
              "      <td>1</td>\n",
              "      <td>0</td>\n",
              "      <td>18</td>\n",
              "    </tr>\n",
              "    <tr>\n",
              "      <th>3</th>\n",
              "      <td>2014-04-15 00:01:00</td>\n",
              "      <td>6214</td>\n",
              "      <td>2014-04-15 00:24:00</td>\n",
              "      <td>6082</td>\n",
              "      <td>1382</td>\n",
              "      <td>1</td>\n",
              "      <td>2014</td>\n",
              "      <td>4</td>\n",
              "      <td>15</td>\n",
              "      <td>1</td>\n",
              "      <td>0</td>\n",
              "      <td>1</td>\n",
              "      <td>2014</td>\n",
              "      <td>4</td>\n",
              "      <td>15</td>\n",
              "      <td>1</td>\n",
              "      <td>0</td>\n",
              "      <td>24</td>\n",
              "    </tr>\n",
              "    <tr>\n",
              "      <th>4</th>\n",
              "      <td>2014-04-15 00:02:00</td>\n",
              "      <td>6149</td>\n",
              "      <td>2014-04-15 00:08:00</td>\n",
              "      <td>6265</td>\n",
              "      <td>347</td>\n",
              "      <td>1</td>\n",
              "      <td>2014</td>\n",
              "      <td>4</td>\n",
              "      <td>15</td>\n",
              "      <td>1</td>\n",
              "      <td>0</td>\n",
              "      <td>2</td>\n",
              "      <td>2014</td>\n",
              "      <td>4</td>\n",
              "      <td>15</td>\n",
              "      <td>1</td>\n",
              "      <td>0</td>\n",
              "      <td>8</td>\n",
              "    </tr>\n",
              "  </tbody>\n",
              "</table>\n",
              "</div>"
            ],
            "text/plain": [
              "           start_date  start_station_code  ... end_hour  end_minute\n",
              "0 2014-04-15 00:01:00                6209  ...        0          18\n",
              "1 2014-04-15 00:01:00                6214  ...        0          11\n",
              "2 2014-04-15 00:01:00                6164  ...        0          18\n",
              "3 2014-04-15 00:01:00                6214  ...        0          24\n",
              "4 2014-04-15 00:02:00                6149  ...        0           8\n",
              "\n",
              "[5 rows x 18 columns]"
            ]
          },
          "metadata": {
            "tags": []
          },
          "execution_count": 22
        }
      ]
    },
    {
      "cell_type": "code",
      "metadata": {
        "id": "RUbyoLYeoSKG",
        "colab_type": "code",
        "outputId": "93102d94-1013-4730-d9bb-1ad38c1e87e5",
        "colab": {
          "base_uri": "https://localhost:8080/",
          "height": 102
        }
      },
      "source": [
        "# BIXI Trip Dataset: Get the column names and order of dataframe\n",
        "df_trip.columns"
      ],
      "execution_count": 23,
      "outputs": [
        {
          "output_type": "execute_result",
          "data": {
            "text/plain": [
              "Index(['start_date', 'start_station_code', 'end_date', 'end_station_code',\n",
              "       'duration_sec', 'is_member', 'start_year', 'start_month', 'start_day',\n",
              "       'start_week_day', 'start_hour', 'start_minute', 'end_year', 'end_month',\n",
              "       'end_day', 'end_week_day', 'end_hour', 'end_minute'],\n",
              "      dtype='object')"
            ]
          },
          "metadata": {
            "tags": []
          },
          "execution_count": 23
        }
      ]
    },
    {
      "cell_type": "code",
      "metadata": {
        "id": "zOBn8h4vogDZ",
        "colab_type": "code",
        "outputId": "1d85f599-2003-42cb-bb85-52c2ed3ba20e",
        "colab": {
          "base_uri": "https://localhost:8080/",
          "height": 306
        }
      },
      "source": [
        "# Montreal Weather Dataset: Create new columns based on the dates\n",
        "\n",
        "df_mtl_weather_hourly['Week_day'] = df_mtl_weather_hourly['Date/Time'].dt.dayofweek\n",
        "df_mtl_weather_hourly['Hour'] = df_mtl_weather_hourly['Date/Time'].dt.hour\n",
        "\n",
        "df_mtl_weather_hourly.head()"
      ],
      "execution_count": 24,
      "outputs": [
        {
          "output_type": "execute_result",
          "data": {
            "text/html": [
              "<div>\n",
              "<style scoped>\n",
              "    .dataframe tbody tr th:only-of-type {\n",
              "        vertical-align: middle;\n",
              "    }\n",
              "\n",
              "    .dataframe tbody tr th {\n",
              "        vertical-align: top;\n",
              "    }\n",
              "\n",
              "    .dataframe thead th {\n",
              "        text-align: right;\n",
              "    }\n",
              "</style>\n",
              "<table border=\"1\" class=\"dataframe\">\n",
              "  <thead>\n",
              "    <tr style=\"text-align: right;\">\n",
              "      <th></th>\n",
              "      <th>Date/Time</th>\n",
              "      <th>Year</th>\n",
              "      <th>Month</th>\n",
              "      <th>Day</th>\n",
              "      <th>Time</th>\n",
              "      <th>Temp (°C)</th>\n",
              "      <th>Dew Point Temp (°C)</th>\n",
              "      <th>Rel Hum (%)</th>\n",
              "      <th>Wind Dir (10s deg)</th>\n",
              "      <th>Wind Spd (km/h)</th>\n",
              "      <th>Visibility (km)</th>\n",
              "      <th>Stn Press (kPa)</th>\n",
              "      <th>Wind Chill</th>\n",
              "      <th>Weather</th>\n",
              "      <th>Week_day</th>\n",
              "      <th>Hour</th>\n",
              "    </tr>\n",
              "  </thead>\n",
              "  <tbody>\n",
              "    <tr>\n",
              "      <th>0</th>\n",
              "      <td>2014-01-01 00:00:00</td>\n",
              "      <td>2014</td>\n",
              "      <td>1</td>\n",
              "      <td>1</td>\n",
              "      <td>00:00</td>\n",
              "      <td>-19.70</td>\n",
              "      <td>-21.80</td>\n",
              "      <td>84.00</td>\n",
              "      <td>24.00</td>\n",
              "      <td>6.00</td>\n",
              "      <td>24.10</td>\n",
              "      <td>101.63</td>\n",
              "      <td>-25.00</td>\n",
              "      <td>NaN</td>\n",
              "      <td>2</td>\n",
              "      <td>0</td>\n",
              "    </tr>\n",
              "    <tr>\n",
              "      <th>1</th>\n",
              "      <td>2014-01-01 01:00:00</td>\n",
              "      <td>2014</td>\n",
              "      <td>1</td>\n",
              "      <td>1</td>\n",
              "      <td>01:00</td>\n",
              "      <td>-18.80</td>\n",
              "      <td>-21.00</td>\n",
              "      <td>83.00</td>\n",
              "      <td>23.00</td>\n",
              "      <td>13.00</td>\n",
              "      <td>24.10</td>\n",
              "      <td>101.69</td>\n",
              "      <td>-27.00</td>\n",
              "      <td>Mostly Cloudy</td>\n",
              "      <td>2</td>\n",
              "      <td>1</td>\n",
              "    </tr>\n",
              "    <tr>\n",
              "      <th>2</th>\n",
              "      <td>2014-01-01 02:00:00</td>\n",
              "      <td>2014</td>\n",
              "      <td>1</td>\n",
              "      <td>1</td>\n",
              "      <td>02:00</td>\n",
              "      <td>-18.50</td>\n",
              "      <td>-20.90</td>\n",
              "      <td>82.00</td>\n",
              "      <td>23.00</td>\n",
              "      <td>9.00</td>\n",
              "      <td>24.10</td>\n",
              "      <td>101.79</td>\n",
              "      <td>-25.00</td>\n",
              "      <td>NaN</td>\n",
              "      <td>2</td>\n",
              "      <td>2</td>\n",
              "    </tr>\n",
              "    <tr>\n",
              "      <th>3</th>\n",
              "      <td>2014-01-01 03:00:00</td>\n",
              "      <td>2014</td>\n",
              "      <td>1</td>\n",
              "      <td>1</td>\n",
              "      <td>03:00</td>\n",
              "      <td>-16.90</td>\n",
              "      <td>-19.40</td>\n",
              "      <td>81.00</td>\n",
              "      <td>26.00</td>\n",
              "      <td>10.00</td>\n",
              "      <td>24.10</td>\n",
              "      <td>101.84</td>\n",
              "      <td>-24.00</td>\n",
              "      <td>NaN</td>\n",
              "      <td>2</td>\n",
              "      <td>3</td>\n",
              "    </tr>\n",
              "    <tr>\n",
              "      <th>4</th>\n",
              "      <td>2014-01-01 04:00:00</td>\n",
              "      <td>2014</td>\n",
              "      <td>1</td>\n",
              "      <td>1</td>\n",
              "      <td>04:00</td>\n",
              "      <td>-16.50</td>\n",
              "      <td>-19.00</td>\n",
              "      <td>81.00</td>\n",
              "      <td>24.00</td>\n",
              "      <td>8.00</td>\n",
              "      <td>24.10</td>\n",
              "      <td>101.88</td>\n",
              "      <td>-22.00</td>\n",
              "      <td>Cloudy</td>\n",
              "      <td>2</td>\n",
              "      <td>4</td>\n",
              "    </tr>\n",
              "  </tbody>\n",
              "</table>\n",
              "</div>"
            ],
            "text/plain": [
              "            Date/Time  Year  Month  ...        Weather Week_day  Hour\n",
              "0 2014-01-01 00:00:00  2014      1  ...            NaN        2     0\n",
              "1 2014-01-01 01:00:00  2014      1  ...  Mostly Cloudy        2     1\n",
              "2 2014-01-01 02:00:00  2014      1  ...            NaN        2     2\n",
              "3 2014-01-01 03:00:00  2014      1  ...            NaN        2     3\n",
              "4 2014-01-01 04:00:00  2014      1  ...         Cloudy        2     4\n",
              "\n",
              "[5 rows x 16 columns]"
            ]
          },
          "metadata": {
            "tags": []
          },
          "execution_count": 24
        }
      ]
    },
    {
      "cell_type": "code",
      "metadata": {
        "id": "nvs5MpWPot69",
        "colab_type": "code",
        "outputId": "9659d870-72be-40c0-e4b3-6a1223e28e4e",
        "colab": {
          "base_uri": "https://localhost:8080/",
          "height": 102
        }
      },
      "source": [
        "# Montreal Weather Dataset: Get the column names\n",
        "df_mtl_weather_hourly.columns"
      ],
      "execution_count": 25,
      "outputs": [
        {
          "output_type": "execute_result",
          "data": {
            "text/plain": [
              "Index(['Date/Time', 'Year', 'Month', 'Day', 'Time', 'Temp (°C)',\n",
              "       'Dew Point Temp (°C)', 'Rel Hum (%)', 'Wind Dir (10s deg)',\n",
              "       'Wind Spd (km/h)', 'Visibility (km)', 'Stn Press (kPa)', 'Wind Chill',\n",
              "       'Weather', 'Week_day', 'Hour'],\n",
              "      dtype='object')"
            ]
          },
          "metadata": {
            "tags": []
          },
          "execution_count": 25
        }
      ]
    },
    {
      "cell_type": "markdown",
      "metadata": {
        "id": "i2MYSASzwVDF",
        "colab_type": "text"
      },
      "source": [
        "# Dealing with Missing Values"
      ]
    },
    {
      "cell_type": "code",
      "metadata": {
        "id": "jFqwvA27o8m2",
        "colab_type": "code",
        "outputId": "505ab2ee-a902-487a-f7f6-1a64f490f1d3",
        "colab": {
          "base_uri": "https://localhost:8080/",
          "height": 340
        }
      },
      "source": [
        "# BIXI Trip Dataframe: Number of missing values by columns\n",
        "print(df_trip.isnull().sum())"
      ],
      "execution_count": 26,
      "outputs": [
        {
          "output_type": "stream",
          "text": [
            "start_date            0\n",
            "start_station_code    0\n",
            "end_date              0\n",
            "end_station_code      0\n",
            "duration_sec          0\n",
            "is_member             0\n",
            "start_year            0\n",
            "start_month           0\n",
            "start_day             0\n",
            "start_week_day        0\n",
            "start_hour            0\n",
            "start_minute          0\n",
            "end_year              0\n",
            "end_month             0\n",
            "end_day               0\n",
            "end_week_day          0\n",
            "end_hour              0\n",
            "end_minute            0\n",
            "dtype: int64\n"
          ],
          "name": "stdout"
        }
      ]
    },
    {
      "cell_type": "code",
      "metadata": {
        "id": "H0FIANKnpDy7",
        "colab_type": "code",
        "outputId": "8b6aaa9f-ec74-4740-ea2c-47e870e28a25",
        "colab": {
          "base_uri": "https://localhost:8080/",
          "height": 119
        }
      },
      "source": [
        "# BIXI Station Dataframe: Number of missing values by columns\n",
        "print(df_stations.isnull().sum())"
      ],
      "execution_count": 27,
      "outputs": [
        {
          "output_type": "stream",
          "text": [
            "code         0\n",
            "name         0\n",
            "latitude     0\n",
            "longitude    0\n",
            "year         0\n",
            "dtype: int64\n"
          ],
          "name": "stdout"
        }
      ]
    },
    {
      "cell_type": "code",
      "metadata": {
        "id": "Y-YzDuOrpJVM",
        "colab_type": "code",
        "outputId": "ef4fe27d-7793-48a7-a1eb-0655d1a0877a",
        "colab": {
          "base_uri": "https://localhost:8080/",
          "height": 306
        }
      },
      "source": [
        "# BIXI Weather Dataframe: Number of missing values by columns\n",
        "print(df_mtl_weather_hourly.isnull().sum())"
      ],
      "execution_count": 28,
      "outputs": [
        {
          "output_type": "stream",
          "text": [
            "Date/Time                  0\n",
            "Year                       0\n",
            "Month                      0\n",
            "Day                        0\n",
            "Time                       0\n",
            "Temp (°C)                 17\n",
            "Dew Point Temp (°C)       19\n",
            "Rel Hum (%)               19\n",
            "Wind Dir (10s deg)        47\n",
            "Wind Spd (km/h)           18\n",
            "Visibility (km)           17\n",
            "Stn Press (kPa)           17\n",
            "Wind Chill             31379\n",
            "Weather                23246\n",
            "Week_day                   0\n",
            "Hour                       0\n",
            "dtype: int64\n"
          ],
          "name": "stdout"
        }
      ]
    },
    {
      "cell_type": "code",
      "metadata": {
        "id": "Q2LHA95H7CkW",
        "colab_type": "code",
        "outputId": "c696b558-efe3-4c4d-8ad7-02735e96fdea",
        "colab": {
          "base_uri": "https://localhost:8080/",
          "height": 306
        }
      },
      "source": [
        "# Fill NaN values with previous values in column\n",
        "\n",
        "df_mtl_weather_hourly['Temp (°C)'].fillna(method='ffill', inplace=True)\n",
        "df_mtl_weather_hourly['Dew Point Temp (°C)'].fillna(method='ffill', inplace=True)\n",
        "df_mtl_weather_hourly['Rel Hum (%)'].fillna(method='ffill', inplace=True)\n",
        "df_mtl_weather_hourly['Wind Dir (10s deg)'].fillna(method='ffill', inplace=True)\n",
        "df_mtl_weather_hourly['Wind Spd (km/h)'].fillna(method='ffill', inplace=True)\n",
        "df_mtl_weather_hourly['Visibility (km)'].fillna(method='ffill', inplace=True)\n",
        "df_mtl_weather_hourly['Stn Press (kPa)'].fillna(method='ffill', inplace=True)\n",
        "df_mtl_weather_hourly['Wind Chill'].fillna(method='ffill', inplace=True)\n",
        "df_mtl_weather_hourly['Weather'].fillna(method='ffill', inplace=True)\n",
        "\n",
        "print(df_mtl_weather_hourly.isnull().sum())\n"
      ],
      "execution_count": 29,
      "outputs": [
        {
          "output_type": "stream",
          "text": [
            "Date/Time              0\n",
            "Year                   0\n",
            "Month                  0\n",
            "Day                    0\n",
            "Time                   0\n",
            "Temp (°C)              0\n",
            "Dew Point Temp (°C)    0\n",
            "Rel Hum (%)            0\n",
            "Wind Dir (10s deg)     0\n",
            "Wind Spd (km/h)        0\n",
            "Visibility (km)        0\n",
            "Stn Press (kPa)        0\n",
            "Wind Chill             0\n",
            "Weather                1\n",
            "Week_day               0\n",
            "Hour                   0\n",
            "dtype: int64\n"
          ],
          "name": "stdout"
        }
      ]
    },
    {
      "cell_type": "code",
      "metadata": {
        "id": "Pr2waMIe99va",
        "colab_type": "code",
        "colab": {
          "base_uri": "https://localhost:8080/",
          "height": 114
        },
        "outputId": "46d31887-20c0-4a54-ec66-630bc46a795a"
      },
      "source": [
        "# Get the NaN value rows of Weather Column\n",
        "df_mtl_weather_hourly[df_mtl_weather_hourly.Weather.isnull()]"
      ],
      "execution_count": 30,
      "outputs": [
        {
          "output_type": "execute_result",
          "data": {
            "text/html": [
              "<div>\n",
              "<style scoped>\n",
              "    .dataframe tbody tr th:only-of-type {\n",
              "        vertical-align: middle;\n",
              "    }\n",
              "\n",
              "    .dataframe tbody tr th {\n",
              "        vertical-align: top;\n",
              "    }\n",
              "\n",
              "    .dataframe thead th {\n",
              "        text-align: right;\n",
              "    }\n",
              "</style>\n",
              "<table border=\"1\" class=\"dataframe\">\n",
              "  <thead>\n",
              "    <tr style=\"text-align: right;\">\n",
              "      <th></th>\n",
              "      <th>Date/Time</th>\n",
              "      <th>Year</th>\n",
              "      <th>Month</th>\n",
              "      <th>Day</th>\n",
              "      <th>Time</th>\n",
              "      <th>Temp (°C)</th>\n",
              "      <th>Dew Point Temp (°C)</th>\n",
              "      <th>Rel Hum (%)</th>\n",
              "      <th>Wind Dir (10s deg)</th>\n",
              "      <th>Wind Spd (km/h)</th>\n",
              "      <th>Visibility (km)</th>\n",
              "      <th>Stn Press (kPa)</th>\n",
              "      <th>Wind Chill</th>\n",
              "      <th>Weather</th>\n",
              "      <th>Week_day</th>\n",
              "      <th>Hour</th>\n",
              "    </tr>\n",
              "  </thead>\n",
              "  <tbody>\n",
              "    <tr>\n",
              "      <th>0</th>\n",
              "      <td>2014-01-01</td>\n",
              "      <td>2014</td>\n",
              "      <td>1</td>\n",
              "      <td>1</td>\n",
              "      <td>00:00</td>\n",
              "      <td>-19.70</td>\n",
              "      <td>-21.80</td>\n",
              "      <td>84.00</td>\n",
              "      <td>24.00</td>\n",
              "      <td>6.00</td>\n",
              "      <td>24.10</td>\n",
              "      <td>101.63</td>\n",
              "      <td>-25.00</td>\n",
              "      <td>NaN</td>\n",
              "      <td>2</td>\n",
              "      <td>0</td>\n",
              "    </tr>\n",
              "  </tbody>\n",
              "</table>\n",
              "</div>"
            ],
            "text/plain": [
              "   Date/Time  Year  Month  Day  ... Wind Chill  Weather  Week_day  Hour\n",
              "0 2014-01-01  2014      1    1  ...     -25.00      NaN         2     0\n",
              "\n",
              "[1 rows x 16 columns]"
            ]
          },
          "metadata": {
            "tags": []
          },
          "execution_count": 30
        }
      ]
    },
    {
      "cell_type": "code",
      "metadata": {
        "id": "5eeQSZ_-AhFm",
        "colab_type": "code",
        "colab": {
          "base_uri": "https://localhost:8080/",
          "height": 306
        },
        "outputId": "8407f531-f7a9-4190-ee44-f2482d7937f2"
      },
      "source": [
        "# Set value for particular cell using index \n",
        "\n",
        "df_mtl_weather_hourly.at[0, 'Weather'] = \"Mostly Cloudy\"\n",
        "df_mtl_weather_hourly.head()"
      ],
      "execution_count": 31,
      "outputs": [
        {
          "output_type": "execute_result",
          "data": {
            "text/html": [
              "<div>\n",
              "<style scoped>\n",
              "    .dataframe tbody tr th:only-of-type {\n",
              "        vertical-align: middle;\n",
              "    }\n",
              "\n",
              "    .dataframe tbody tr th {\n",
              "        vertical-align: top;\n",
              "    }\n",
              "\n",
              "    .dataframe thead th {\n",
              "        text-align: right;\n",
              "    }\n",
              "</style>\n",
              "<table border=\"1\" class=\"dataframe\">\n",
              "  <thead>\n",
              "    <tr style=\"text-align: right;\">\n",
              "      <th></th>\n",
              "      <th>Date/Time</th>\n",
              "      <th>Year</th>\n",
              "      <th>Month</th>\n",
              "      <th>Day</th>\n",
              "      <th>Time</th>\n",
              "      <th>Temp (°C)</th>\n",
              "      <th>Dew Point Temp (°C)</th>\n",
              "      <th>Rel Hum (%)</th>\n",
              "      <th>Wind Dir (10s deg)</th>\n",
              "      <th>Wind Spd (km/h)</th>\n",
              "      <th>Visibility (km)</th>\n",
              "      <th>Stn Press (kPa)</th>\n",
              "      <th>Wind Chill</th>\n",
              "      <th>Weather</th>\n",
              "      <th>Week_day</th>\n",
              "      <th>Hour</th>\n",
              "    </tr>\n",
              "  </thead>\n",
              "  <tbody>\n",
              "    <tr>\n",
              "      <th>0</th>\n",
              "      <td>2014-01-01 00:00:00</td>\n",
              "      <td>2014</td>\n",
              "      <td>1</td>\n",
              "      <td>1</td>\n",
              "      <td>00:00</td>\n",
              "      <td>-19.70</td>\n",
              "      <td>-21.80</td>\n",
              "      <td>84.00</td>\n",
              "      <td>24.00</td>\n",
              "      <td>6.00</td>\n",
              "      <td>24.10</td>\n",
              "      <td>101.63</td>\n",
              "      <td>-25.00</td>\n",
              "      <td>Mostly Cloudy</td>\n",
              "      <td>2</td>\n",
              "      <td>0</td>\n",
              "    </tr>\n",
              "    <tr>\n",
              "      <th>1</th>\n",
              "      <td>2014-01-01 01:00:00</td>\n",
              "      <td>2014</td>\n",
              "      <td>1</td>\n",
              "      <td>1</td>\n",
              "      <td>01:00</td>\n",
              "      <td>-18.80</td>\n",
              "      <td>-21.00</td>\n",
              "      <td>83.00</td>\n",
              "      <td>23.00</td>\n",
              "      <td>13.00</td>\n",
              "      <td>24.10</td>\n",
              "      <td>101.69</td>\n",
              "      <td>-27.00</td>\n",
              "      <td>Mostly Cloudy</td>\n",
              "      <td>2</td>\n",
              "      <td>1</td>\n",
              "    </tr>\n",
              "    <tr>\n",
              "      <th>2</th>\n",
              "      <td>2014-01-01 02:00:00</td>\n",
              "      <td>2014</td>\n",
              "      <td>1</td>\n",
              "      <td>1</td>\n",
              "      <td>02:00</td>\n",
              "      <td>-18.50</td>\n",
              "      <td>-20.90</td>\n",
              "      <td>82.00</td>\n",
              "      <td>23.00</td>\n",
              "      <td>9.00</td>\n",
              "      <td>24.10</td>\n",
              "      <td>101.79</td>\n",
              "      <td>-25.00</td>\n",
              "      <td>Mostly Cloudy</td>\n",
              "      <td>2</td>\n",
              "      <td>2</td>\n",
              "    </tr>\n",
              "    <tr>\n",
              "      <th>3</th>\n",
              "      <td>2014-01-01 03:00:00</td>\n",
              "      <td>2014</td>\n",
              "      <td>1</td>\n",
              "      <td>1</td>\n",
              "      <td>03:00</td>\n",
              "      <td>-16.90</td>\n",
              "      <td>-19.40</td>\n",
              "      <td>81.00</td>\n",
              "      <td>26.00</td>\n",
              "      <td>10.00</td>\n",
              "      <td>24.10</td>\n",
              "      <td>101.84</td>\n",
              "      <td>-24.00</td>\n",
              "      <td>Mostly Cloudy</td>\n",
              "      <td>2</td>\n",
              "      <td>3</td>\n",
              "    </tr>\n",
              "    <tr>\n",
              "      <th>4</th>\n",
              "      <td>2014-01-01 04:00:00</td>\n",
              "      <td>2014</td>\n",
              "      <td>1</td>\n",
              "      <td>1</td>\n",
              "      <td>04:00</td>\n",
              "      <td>-16.50</td>\n",
              "      <td>-19.00</td>\n",
              "      <td>81.00</td>\n",
              "      <td>24.00</td>\n",
              "      <td>8.00</td>\n",
              "      <td>24.10</td>\n",
              "      <td>101.88</td>\n",
              "      <td>-22.00</td>\n",
              "      <td>Cloudy</td>\n",
              "      <td>2</td>\n",
              "      <td>4</td>\n",
              "    </tr>\n",
              "  </tbody>\n",
              "</table>\n",
              "</div>"
            ],
            "text/plain": [
              "            Date/Time  Year  Month  ...        Weather Week_day  Hour\n",
              "0 2014-01-01 00:00:00  2014      1  ...  Mostly Cloudy        2     0\n",
              "1 2014-01-01 01:00:00  2014      1  ...  Mostly Cloudy        2     1\n",
              "2 2014-01-01 02:00:00  2014      1  ...  Mostly Cloudy        2     2\n",
              "3 2014-01-01 03:00:00  2014      1  ...  Mostly Cloudy        2     3\n",
              "4 2014-01-01 04:00:00  2014      1  ...         Cloudy        2     4\n",
              "\n",
              "[5 rows x 16 columns]"
            ]
          },
          "metadata": {
            "tags": []
          },
          "execution_count": 31
        }
      ]
    },
    {
      "cell_type": "code",
      "metadata": {
        "id": "NBkRajBTBbWo",
        "colab_type": "code",
        "colab": {
          "base_uri": "https://localhost:8080/",
          "height": 306
        },
        "outputId": "802fd7f1-f171-455a-d803-fc51fcc3414f"
      },
      "source": [
        "# Recheck the number of missing values by Column\n",
        "print(df_mtl_weather_hourly.isnull().sum())"
      ],
      "execution_count": 32,
      "outputs": [
        {
          "output_type": "stream",
          "text": [
            "Date/Time              0\n",
            "Year                   0\n",
            "Month                  0\n",
            "Day                    0\n",
            "Time                   0\n",
            "Temp (°C)              0\n",
            "Dew Point Temp (°C)    0\n",
            "Rel Hum (%)            0\n",
            "Wind Dir (10s deg)     0\n",
            "Wind Spd (km/h)        0\n",
            "Visibility (km)        0\n",
            "Stn Press (kPa)        0\n",
            "Wind Chill             0\n",
            "Weather                0\n",
            "Week_day               0\n",
            "Hour                   0\n",
            "dtype: int64\n"
          ],
          "name": "stdout"
        }
      ]
    },
    {
      "cell_type": "markdown",
      "metadata": {
        "id": "jmUsrQM9w9El",
        "colab_type": "text"
      },
      "source": [
        "# Dealing with duplicate rows"
      ]
    },
    {
      "cell_type": "code",
      "metadata": {
        "id": "lbEGRFifpS6Z",
        "colab_type": "code",
        "colab": {
          "base_uri": "https://localhost:8080/",
          "height": 1000
        },
        "outputId": "24204b20-7c43-491d-aac2-fd553986c5fe"
      },
      "source": [
        "# Get Duplicate rows of BIXI Trip Dataframe\n",
        "duplicate_rows = df_trip[df_trip.duplicated()]\n",
        "print(\"Duplicate Rows except first occurrence based on all columns:\")\n",
        "print(duplicate_rows)"
      ],
      "execution_count": 33,
      "outputs": [
        {
          "output_type": "stream",
          "text": [
            "Duplicate Rows except first occurrence based on all columns:\n",
            "                start_date  start_station_code  ... end_hour  end_minute\n",
            "6849   2014-04-17 13:23:00                6213  ...       13          30\n",
            "10215  2014-04-17 21:33:00                6194  ...       21          52\n",
            "10392  2014-04-17 22:35:00                6233  ...       22          52\n",
            "14636  2014-04-18 18:27:00                6155  ...       18          30\n",
            "15025  2014-04-18 19:24:00                6086  ...       19          39\n",
            "15594  2014-04-18 22:05:00                6186  ...       22          16\n",
            "15620  2014-04-18 22:11:00                6234  ...       22          14\n",
            "17054  2014-04-19 11:29:00                6258  ...       11          43\n",
            "17066  2014-04-19 11:30:00                6083  ...       11          34\n",
            "17082  2014-04-19 11:34:00                6087  ...       12           6\n",
            "17170  2014-04-19 11:49:00                6155  ...       12           6\n",
            "17474  2014-04-19 12:39:00                6257  ...       13          13\n",
            "17725  2014-04-19 13:18:00                6924  ...       13          35\n",
            "18023  2014-04-19 13:54:00                6372  ...       14          33\n",
            "18453  2014-04-19 14:40:00                6058  ...       15           1\n",
            "18767  2014-04-19 15:11:00                6205  ...       15          26\n",
            "19421  2014-04-19 16:17:00                6064  ...       16          31\n",
            "19508  2014-04-19 16:26:00                6050  ...       16          57\n",
            "19849  2014-04-19 16:55:00                6117  ...       17          15\n",
            "22031  2014-04-20 00:22:00                6227  ...        0          31\n",
            "22085  2014-04-20 00:45:00                6405  ...        0          55\n",
            "22291  2014-04-20 02:48:00                6213  ...        2          53\n",
            "22355  2014-04-20 03:27:00                6277  ...        3          36\n",
            "23089  2014-04-20 11:19:00                6426  ...       11          41\n",
            "23287  2014-04-20 11:51:00                6088  ...       12          13\n",
            "23542  2014-04-20 12:28:00                6427  ...       13           4\n",
            "23959  2014-04-20 13:23:00                6015  ...       13          48\n",
            "25374  2014-04-20 16:04:00                6052  ...       17          32\n",
            "25716  2014-04-20 16:39:00                6050  ...       16          59\n",
            "25789  2014-04-20 16:44:00                6227  ...       16          53\n",
            "...                    ...                 ...  ...      ...         ...\n",
            "51271  2018-11-06 08:00:00                6156  ...        8           4\n",
            "57038  2018-11-06 17:25:00                6008  ...       17          49\n",
            "57645  2018-11-06 17:50:00                6034  ...       18           1\n",
            "66369  2018-11-07 12:28:00                6411  ...       12          31\n",
            "69372  2018-11-07 16:40:00                6307  ...       16          48\n",
            "74090  2018-11-07 21:53:00                6227  ...       22           5\n",
            "74185  2018-11-07 22:04:00                6184  ...       22          18\n",
            "79660  2018-11-08 11:29:00                6034  ...       11          36\n",
            "80776  2018-11-08 13:04:00                6281  ...       13           9\n",
            "88232  2018-11-08 21:36:00                6901  ...       21          43\n",
            "88788  2018-11-08 22:52:00                6136  ...       23           1\n",
            "100165 2018-11-10 10:48:00                6330  ...       10          54\n",
            "100518 2018-11-10 11:39:00                6111  ...       11          48\n",
            "100634 2018-11-10 11:51:00                6915  ...       11          55\n",
            "102038 2018-11-10 14:06:00                6089  ...       14          26\n",
            "102895 2018-11-10 15:36:00                6733  ...       15          48\n",
            "103567 2018-11-10 16:43:00                7029  ...       16          46\n",
            "104538 2018-11-10 19:13:00                6018  ...       19          22\n",
            "104824 2018-11-10 20:25:00                6186  ...       20          36\n",
            "109199 2018-11-11 15:52:00                6064  ...       16           3\n",
            "110837 2018-11-11 19:54:00                6223  ...       19          59\n",
            "115608 2018-11-12 12:44:00                6026  ...       13          17\n",
            "116825 2018-11-12 15:04:00                6026  ...       15          15\n",
            "117504 2018-11-12 16:06:00                6137  ...       16          15\n",
            "118281 2018-11-12 16:54:00                6118  ...       17          17\n",
            "122212 2018-11-12 23:23:00                6211  ...       23          29\n",
            "129003 2018-11-13 21:02:00                6070  ...       21           5\n",
            "138181 2018-11-15 08:47:00                6158  ...        8          57\n",
            "142188 2018-11-15 17:31:00                6738  ...       17          43\n",
            "143894 2018-11-15 21:08:00                6031  ...       21          27\n",
            "\n",
            "[23912 rows x 18 columns]\n"
          ],
          "name": "stdout"
        }
      ]
    },
    {
      "cell_type": "markdown",
      "metadata": {
        "id": "5RDWoLSDEo--",
        "colab_type": "text"
      },
      "source": [
        "**Note: Keeping the duplicate values in the DataFrame because group of people could start same time from a station and end also together in another station with same time.   **"
      ]
    },
    {
      "cell_type": "markdown",
      "metadata": {
        "id": "6W8rCQsnqrFD",
        "colab_type": "text"
      },
      "source": [
        "# Grouping Station wise Hourly Bike Move Out and Move In "
      ]
    },
    {
      "cell_type": "code",
      "metadata": {
        "id": "bCcvSxQjOBVY",
        "colab_type": "code",
        "colab": {
          "base_uri": "https://localhost:8080/",
          "height": 204
        },
        "outputId": "8dcd0c3e-131f-455d-a3e7-ac6c400527e0"
      },
      "source": [
        "# Copy df_trip DataFrame with specic columns\n",
        "new_df_col = ['start_year', 'start_month', 'start_day', 'start_hour', 'start_station_code', 'end_station_code'] \n",
        "df_trip_copy = df_trip[new_df_col]\n",
        "df_trip_copy.head()"
      ],
      "execution_count": 34,
      "outputs": [
        {
          "output_type": "execute_result",
          "data": {
            "text/html": [
              "<div>\n",
              "<style scoped>\n",
              "    .dataframe tbody tr th:only-of-type {\n",
              "        vertical-align: middle;\n",
              "    }\n",
              "\n",
              "    .dataframe tbody tr th {\n",
              "        vertical-align: top;\n",
              "    }\n",
              "\n",
              "    .dataframe thead th {\n",
              "        text-align: right;\n",
              "    }\n",
              "</style>\n",
              "<table border=\"1\" class=\"dataframe\">\n",
              "  <thead>\n",
              "    <tr style=\"text-align: right;\">\n",
              "      <th></th>\n",
              "      <th>start_year</th>\n",
              "      <th>start_month</th>\n",
              "      <th>start_day</th>\n",
              "      <th>start_hour</th>\n",
              "      <th>start_station_code</th>\n",
              "      <th>end_station_code</th>\n",
              "    </tr>\n",
              "  </thead>\n",
              "  <tbody>\n",
              "    <tr>\n",
              "      <th>0</th>\n",
              "      <td>2014</td>\n",
              "      <td>4</td>\n",
              "      <td>15</td>\n",
              "      <td>0</td>\n",
              "      <td>6209</td>\n",
              "      <td>6436</td>\n",
              "    </tr>\n",
              "    <tr>\n",
              "      <th>1</th>\n",
              "      <td>2014</td>\n",
              "      <td>4</td>\n",
              "      <td>15</td>\n",
              "      <td>0</td>\n",
              "      <td>6214</td>\n",
              "      <td>6248</td>\n",
              "    </tr>\n",
              "    <tr>\n",
              "      <th>2</th>\n",
              "      <td>2014</td>\n",
              "      <td>4</td>\n",
              "      <td>15</td>\n",
              "      <td>0</td>\n",
              "      <td>6164</td>\n",
              "      <td>6216</td>\n",
              "    </tr>\n",
              "    <tr>\n",
              "      <th>3</th>\n",
              "      <td>2014</td>\n",
              "      <td>4</td>\n",
              "      <td>15</td>\n",
              "      <td>0</td>\n",
              "      <td>6214</td>\n",
              "      <td>6082</td>\n",
              "    </tr>\n",
              "    <tr>\n",
              "      <th>4</th>\n",
              "      <td>2014</td>\n",
              "      <td>4</td>\n",
              "      <td>15</td>\n",
              "      <td>0</td>\n",
              "      <td>6149</td>\n",
              "      <td>6265</td>\n",
              "    </tr>\n",
              "  </tbody>\n",
              "</table>\n",
              "</div>"
            ],
            "text/plain": [
              "   start_year  start_month  ...  start_station_code  end_station_code\n",
              "0        2014            4  ...                6209              6436\n",
              "1        2014            4  ...                6214              6248\n",
              "2        2014            4  ...                6164              6216\n",
              "3        2014            4  ...                6214              6082\n",
              "4        2014            4  ...                6149              6265\n",
              "\n",
              "[5 rows x 6 columns]"
            ]
          },
          "metadata": {
            "tags": []
          },
          "execution_count": 34
        }
      ]
    },
    {
      "cell_type": "code",
      "metadata": {
        "id": "KkE92YSmP-4a",
        "colab_type": "code",
        "colab": {
          "base_uri": "https://localhost:8080/",
          "height": 204
        },
        "outputId": "7f115958-24f5-4578-e1c0-e902195cd1e0"
      },
      "source": [
        "# Count the number of bikes move in and move out from specific station hourly\n",
        "df_trip_hourly = df_trip_copy.melt(['start_year', 'start_month', 'start_day', 'start_hour']).groupby(['start_year', 'start_month', 'start_day', 'start_hour','variable']).value.value_counts().unstack(level=4,fill_value=0).reset_index()\n",
        "df_trip_hourly.head()"
      ],
      "execution_count": 35,
      "outputs": [
        {
          "output_type": "execute_result",
          "data": {
            "text/html": [
              "<div>\n",
              "<style scoped>\n",
              "    .dataframe tbody tr th:only-of-type {\n",
              "        vertical-align: middle;\n",
              "    }\n",
              "\n",
              "    .dataframe tbody tr th {\n",
              "        vertical-align: top;\n",
              "    }\n",
              "\n",
              "    .dataframe thead th {\n",
              "        text-align: right;\n",
              "    }\n",
              "</style>\n",
              "<table border=\"1\" class=\"dataframe\">\n",
              "  <thead>\n",
              "    <tr style=\"text-align: right;\">\n",
              "      <th>variable</th>\n",
              "      <th>start_year</th>\n",
              "      <th>start_month</th>\n",
              "      <th>start_day</th>\n",
              "      <th>start_hour</th>\n",
              "      <th>value</th>\n",
              "      <th>end_station_code</th>\n",
              "      <th>start_station_code</th>\n",
              "    </tr>\n",
              "  </thead>\n",
              "  <tbody>\n",
              "    <tr>\n",
              "      <th>0</th>\n",
              "      <td>2014</td>\n",
              "      <td>4</td>\n",
              "      <td>15</td>\n",
              "      <td>0</td>\n",
              "      <td>6062</td>\n",
              "      <td>0</td>\n",
              "      <td>1</td>\n",
              "    </tr>\n",
              "    <tr>\n",
              "      <th>1</th>\n",
              "      <td>2014</td>\n",
              "      <td>4</td>\n",
              "      <td>15</td>\n",
              "      <td>0</td>\n",
              "      <td>6064</td>\n",
              "      <td>0</td>\n",
              "      <td>1</td>\n",
              "    </tr>\n",
              "    <tr>\n",
              "      <th>2</th>\n",
              "      <td>2014</td>\n",
              "      <td>4</td>\n",
              "      <td>15</td>\n",
              "      <td>0</td>\n",
              "      <td>6068</td>\n",
              "      <td>1</td>\n",
              "      <td>1</td>\n",
              "    </tr>\n",
              "    <tr>\n",
              "      <th>3</th>\n",
              "      <td>2014</td>\n",
              "      <td>4</td>\n",
              "      <td>15</td>\n",
              "      <td>0</td>\n",
              "      <td>6082</td>\n",
              "      <td>1</td>\n",
              "      <td>0</td>\n",
              "    </tr>\n",
              "    <tr>\n",
              "      <th>4</th>\n",
              "      <td>2014</td>\n",
              "      <td>4</td>\n",
              "      <td>15</td>\n",
              "      <td>0</td>\n",
              "      <td>6093</td>\n",
              "      <td>1</td>\n",
              "      <td>0</td>\n",
              "    </tr>\n",
              "  </tbody>\n",
              "</table>\n",
              "</div>"
            ],
            "text/plain": [
              "variable  start_year  start_month  ...  end_station_code  start_station_code\n",
              "0               2014            4  ...                 0                   1\n",
              "1               2014            4  ...                 0                   1\n",
              "2               2014            4  ...                 1                   1\n",
              "3               2014            4  ...                 1                   0\n",
              "4               2014            4  ...                 1                   0\n",
              "\n",
              "[5 rows x 7 columns]"
            ]
          },
          "metadata": {
            "tags": []
          },
          "execution_count": 35
        }
      ]
    },
    {
      "cell_type": "code",
      "metadata": {
        "id": "brJ2AfWLXY8v",
        "colab_type": "code",
        "colab": {
          "base_uri": "https://localhost:8080/",
          "height": 68
        },
        "outputId": "7fe82939-479a-4797-e135-bd2756f6843b"
      },
      "source": [
        "# Columns of DataFrame\n",
        "df_trip_hourly.columns"
      ],
      "execution_count": 36,
      "outputs": [
        {
          "output_type": "execute_result",
          "data": {
            "text/plain": [
              "Index(['start_year', 'start_month', 'start_day', 'start_hour', 'value',\n",
              "       'end_station_code', 'start_station_code'],\n",
              "      dtype='object', name='variable')"
            ]
          },
          "metadata": {
            "tags": []
          },
          "execution_count": 36
        }
      ]
    },
    {
      "cell_type": "code",
      "metadata": {
        "id": "zmzJdzS0W3oq",
        "colab_type": "code",
        "colab": {
          "base_uri": "https://localhost:8080/",
          "height": 204
        },
        "outputId": "f3d4f679-1af7-4e0c-ca39-087e158486e7"
      },
      "source": [
        "# Rename df_trip_hourly Column Name\n",
        "df_trip_hourly.columns = ['Start_year', 'Start_month', 'Start_day', 'Start_hour', 'Station_code', 'Move_in', 'Move_out']\n",
        "df_trip_hourly.head()"
      ],
      "execution_count": 37,
      "outputs": [
        {
          "output_type": "execute_result",
          "data": {
            "text/html": [
              "<div>\n",
              "<style scoped>\n",
              "    .dataframe tbody tr th:only-of-type {\n",
              "        vertical-align: middle;\n",
              "    }\n",
              "\n",
              "    .dataframe tbody tr th {\n",
              "        vertical-align: top;\n",
              "    }\n",
              "\n",
              "    .dataframe thead th {\n",
              "        text-align: right;\n",
              "    }\n",
              "</style>\n",
              "<table border=\"1\" class=\"dataframe\">\n",
              "  <thead>\n",
              "    <tr style=\"text-align: right;\">\n",
              "      <th></th>\n",
              "      <th>Start_year</th>\n",
              "      <th>Start_month</th>\n",
              "      <th>Start_day</th>\n",
              "      <th>Start_hour</th>\n",
              "      <th>Station_code</th>\n",
              "      <th>Move_in</th>\n",
              "      <th>Move_out</th>\n",
              "    </tr>\n",
              "  </thead>\n",
              "  <tbody>\n",
              "    <tr>\n",
              "      <th>0</th>\n",
              "      <td>2014</td>\n",
              "      <td>4</td>\n",
              "      <td>15</td>\n",
              "      <td>0</td>\n",
              "      <td>6062</td>\n",
              "      <td>0</td>\n",
              "      <td>1</td>\n",
              "    </tr>\n",
              "    <tr>\n",
              "      <th>1</th>\n",
              "      <td>2014</td>\n",
              "      <td>4</td>\n",
              "      <td>15</td>\n",
              "      <td>0</td>\n",
              "      <td>6064</td>\n",
              "      <td>0</td>\n",
              "      <td>1</td>\n",
              "    </tr>\n",
              "    <tr>\n",
              "      <th>2</th>\n",
              "      <td>2014</td>\n",
              "      <td>4</td>\n",
              "      <td>15</td>\n",
              "      <td>0</td>\n",
              "      <td>6068</td>\n",
              "      <td>1</td>\n",
              "      <td>1</td>\n",
              "    </tr>\n",
              "    <tr>\n",
              "      <th>3</th>\n",
              "      <td>2014</td>\n",
              "      <td>4</td>\n",
              "      <td>15</td>\n",
              "      <td>0</td>\n",
              "      <td>6082</td>\n",
              "      <td>1</td>\n",
              "      <td>0</td>\n",
              "    </tr>\n",
              "    <tr>\n",
              "      <th>4</th>\n",
              "      <td>2014</td>\n",
              "      <td>4</td>\n",
              "      <td>15</td>\n",
              "      <td>0</td>\n",
              "      <td>6093</td>\n",
              "      <td>1</td>\n",
              "      <td>0</td>\n",
              "    </tr>\n",
              "  </tbody>\n",
              "</table>\n",
              "</div>"
            ],
            "text/plain": [
              "   Start_year  Start_month  Start_day  ...  Station_code  Move_in  Move_out\n",
              "0        2014            4         15  ...          6062        0         1\n",
              "1        2014            4         15  ...          6064        0         1\n",
              "2        2014            4         15  ...          6068        1         1\n",
              "3        2014            4         15  ...          6082        1         0\n",
              "4        2014            4         15  ...          6093        1         0\n",
              "\n",
              "[5 rows x 7 columns]"
            ]
          },
          "metadata": {
            "tags": []
          },
          "execution_count": 37
        }
      ]
    },
    {
      "cell_type": "markdown",
      "metadata": {
        "id": "7rE-YAPbGaOa",
        "colab_type": "text"
      },
      "source": [
        "# Merge DataFrames"
      ]
    },
    {
      "cell_type": "code",
      "metadata": {
        "id": "w9PUbUc9pn9R",
        "colab_type": "code",
        "colab": {
          "base_uri": "https://localhost:8080/",
          "height": 394
        },
        "outputId": "9ea506e0-1849-4435-f605-172ceb46316e"
      },
      "source": [
        "# Merge df_trip_hourly datafrane with df_weather DataFrame and station DataFrame\n",
        "df_merged = pd.merge(left=df_trip_hourly, right=df_mtl_weather_hourly, how='left', left_on=['Start_year', 'Start_month', 'Start_day', 'Start_hour'], \n",
        "                     right_on=['Year', 'Month', 'Day', 'Hour'])\n",
        "\n",
        "df_merged = pd.merge(left=df_merged, right=df_stations, how='left', left_on=['Station_code', 'Year'], right_on=['code', 'year'])\n",
        "\n",
        "df_merged.head()"
      ],
      "execution_count": 38,
      "outputs": [
        {
          "output_type": "execute_result",
          "data": {
            "text/html": [
              "<div>\n",
              "<style scoped>\n",
              "    .dataframe tbody tr th:only-of-type {\n",
              "        vertical-align: middle;\n",
              "    }\n",
              "\n",
              "    .dataframe tbody tr th {\n",
              "        vertical-align: top;\n",
              "    }\n",
              "\n",
              "    .dataframe thead th {\n",
              "        text-align: right;\n",
              "    }\n",
              "</style>\n",
              "<table border=\"1\" class=\"dataframe\">\n",
              "  <thead>\n",
              "    <tr style=\"text-align: right;\">\n",
              "      <th></th>\n",
              "      <th>Start_year</th>\n",
              "      <th>Start_month</th>\n",
              "      <th>Start_day</th>\n",
              "      <th>Start_hour</th>\n",
              "      <th>Station_code</th>\n",
              "      <th>Move_in</th>\n",
              "      <th>Move_out</th>\n",
              "      <th>Date/Time</th>\n",
              "      <th>Year</th>\n",
              "      <th>Month</th>\n",
              "      <th>Day</th>\n",
              "      <th>Time</th>\n",
              "      <th>Temp (°C)</th>\n",
              "      <th>Dew Point Temp (°C)</th>\n",
              "      <th>Rel Hum (%)</th>\n",
              "      <th>Wind Dir (10s deg)</th>\n",
              "      <th>Wind Spd (km/h)</th>\n",
              "      <th>Visibility (km)</th>\n",
              "      <th>Stn Press (kPa)</th>\n",
              "      <th>Wind Chill</th>\n",
              "      <th>Weather</th>\n",
              "      <th>Week_day</th>\n",
              "      <th>Hour</th>\n",
              "      <th>code</th>\n",
              "      <th>name</th>\n",
              "      <th>latitude</th>\n",
              "      <th>longitude</th>\n",
              "      <th>year</th>\n",
              "    </tr>\n",
              "  </thead>\n",
              "  <tbody>\n",
              "    <tr>\n",
              "      <th>0</th>\n",
              "      <td>2014</td>\n",
              "      <td>4</td>\n",
              "      <td>15</td>\n",
              "      <td>0</td>\n",
              "      <td>6062</td>\n",
              "      <td>0</td>\n",
              "      <td>1</td>\n",
              "      <td>2014-04-15</td>\n",
              "      <td>2014</td>\n",
              "      <td>4</td>\n",
              "      <td>15</td>\n",
              "      <td>00:00</td>\n",
              "      <td>13.90</td>\n",
              "      <td>13.00</td>\n",
              "      <td>94.00</td>\n",
              "      <td>20.00</td>\n",
              "      <td>10.00</td>\n",
              "      <td>16.10</td>\n",
              "      <td>99.91</td>\n",
              "      <td>-4.00</td>\n",
              "      <td>Rain Showers</td>\n",
              "      <td>1</td>\n",
              "      <td>0</td>\n",
              "      <td>6062.00</td>\n",
              "      <td>Drummond / Ste-Catherine</td>\n",
              "      <td>45.50</td>\n",
              "      <td>-73.57</td>\n",
              "      <td>2014.00</td>\n",
              "    </tr>\n",
              "    <tr>\n",
              "      <th>1</th>\n",
              "      <td>2014</td>\n",
              "      <td>4</td>\n",
              "      <td>15</td>\n",
              "      <td>0</td>\n",
              "      <td>6064</td>\n",
              "      <td>0</td>\n",
              "      <td>1</td>\n",
              "      <td>2014-04-15</td>\n",
              "      <td>2014</td>\n",
              "      <td>4</td>\n",
              "      <td>15</td>\n",
              "      <td>00:00</td>\n",
              "      <td>13.90</td>\n",
              "      <td>13.00</td>\n",
              "      <td>94.00</td>\n",
              "      <td>20.00</td>\n",
              "      <td>10.00</td>\n",
              "      <td>16.10</td>\n",
              "      <td>99.91</td>\n",
              "      <td>-4.00</td>\n",
              "      <td>Rain Showers</td>\n",
              "      <td>1</td>\n",
              "      <td>0</td>\n",
              "      <td>6064.00</td>\n",
              "      <td>de Maisonneuve / Stanley</td>\n",
              "      <td>45.50</td>\n",
              "      <td>-73.58</td>\n",
              "      <td>2014.00</td>\n",
              "    </tr>\n",
              "    <tr>\n",
              "      <th>2</th>\n",
              "      <td>2014</td>\n",
              "      <td>4</td>\n",
              "      <td>15</td>\n",
              "      <td>0</td>\n",
              "      <td>6068</td>\n",
              "      <td>1</td>\n",
              "      <td>1</td>\n",
              "      <td>2014-04-15</td>\n",
              "      <td>2014</td>\n",
              "      <td>4</td>\n",
              "      <td>15</td>\n",
              "      <td>00:00</td>\n",
              "      <td>13.90</td>\n",
              "      <td>13.00</td>\n",
              "      <td>94.00</td>\n",
              "      <td>20.00</td>\n",
              "      <td>10.00</td>\n",
              "      <td>16.10</td>\n",
              "      <td>99.91</td>\n",
              "      <td>-4.00</td>\n",
              "      <td>Rain Showers</td>\n",
              "      <td>1</td>\n",
              "      <td>0</td>\n",
              "      <td>6068.00</td>\n",
              "      <td>Mansfield / Sherbrooke</td>\n",
              "      <td>45.50</td>\n",
              "      <td>-73.58</td>\n",
              "      <td>2014.00</td>\n",
              "    </tr>\n",
              "    <tr>\n",
              "      <th>3</th>\n",
              "      <td>2014</td>\n",
              "      <td>4</td>\n",
              "      <td>15</td>\n",
              "      <td>0</td>\n",
              "      <td>6082</td>\n",
              "      <td>1</td>\n",
              "      <td>0</td>\n",
              "      <td>2014-04-15</td>\n",
              "      <td>2014</td>\n",
              "      <td>4</td>\n",
              "      <td>15</td>\n",
              "      <td>00:00</td>\n",
              "      <td>13.90</td>\n",
              "      <td>13.00</td>\n",
              "      <td>94.00</td>\n",
              "      <td>20.00</td>\n",
              "      <td>10.00</td>\n",
              "      <td>16.10</td>\n",
              "      <td>99.91</td>\n",
              "      <td>-4.00</td>\n",
              "      <td>Rain Showers</td>\n",
              "      <td>1</td>\n",
              "      <td>0</td>\n",
              "      <td>6082.00</td>\n",
              "      <td>6e avenue / Rosemont</td>\n",
              "      <td>45.55</td>\n",
              "      <td>-73.58</td>\n",
              "      <td>2014.00</td>\n",
              "    </tr>\n",
              "    <tr>\n",
              "      <th>4</th>\n",
              "      <td>2014</td>\n",
              "      <td>4</td>\n",
              "      <td>15</td>\n",
              "      <td>0</td>\n",
              "      <td>6093</td>\n",
              "      <td>1</td>\n",
              "      <td>0</td>\n",
              "      <td>2014-04-15</td>\n",
              "      <td>2014</td>\n",
              "      <td>4</td>\n",
              "      <td>15</td>\n",
              "      <td>00:00</td>\n",
              "      <td>13.90</td>\n",
              "      <td>13.00</td>\n",
              "      <td>94.00</td>\n",
              "      <td>20.00</td>\n",
              "      <td>10.00</td>\n",
              "      <td>16.10</td>\n",
              "      <td>99.91</td>\n",
              "      <td>-4.00</td>\n",
              "      <td>Rain Showers</td>\n",
              "      <td>1</td>\n",
              "      <td>0</td>\n",
              "      <td>6093.00</td>\n",
              "      <td>Atwater / Sherbrooke</td>\n",
              "      <td>45.49</td>\n",
              "      <td>-73.59</td>\n",
              "      <td>2014.00</td>\n",
              "    </tr>\n",
              "  </tbody>\n",
              "</table>\n",
              "</div>"
            ],
            "text/plain": [
              "   Start_year  Start_month  Start_day  ...  latitude  longitude    year\n",
              "0        2014            4         15  ...     45.50     -73.57 2014.00\n",
              "1        2014            4         15  ...     45.50     -73.58 2014.00\n",
              "2        2014            4         15  ...     45.50     -73.58 2014.00\n",
              "3        2014            4         15  ...     45.55     -73.58 2014.00\n",
              "4        2014            4         15  ...     45.49     -73.59 2014.00\n",
              "\n",
              "[5 rows x 28 columns]"
            ]
          },
          "metadata": {
            "tags": []
          },
          "execution_count": 38
        }
      ]
    },
    {
      "cell_type": "code",
      "metadata": {
        "id": "MAuSD-60p2et",
        "colab_type": "code",
        "colab": {
          "base_uri": "https://localhost:8080/",
          "height": 136
        },
        "outputId": "e8ff8087-64b0-4d27-c82a-7b75825a5c8f"
      },
      "source": [
        "# Get the column names and order of Merged Dataframe\n",
        "df_merged.columns"
      ],
      "execution_count": 39,
      "outputs": [
        {
          "output_type": "execute_result",
          "data": {
            "text/plain": [
              "Index(['Start_year', 'Start_month', 'Start_day', 'Start_hour', 'Station_code',\n",
              "       'Move_in', 'Move_out', 'Date/Time', 'Year', 'Month', 'Day', 'Time',\n",
              "       'Temp (°C)', 'Dew Point Temp (°C)', 'Rel Hum (%)', 'Wind Dir (10s deg)',\n",
              "       'Wind Spd (km/h)', 'Visibility (km)', 'Stn Press (kPa)', 'Wind Chill',\n",
              "       'Weather', 'Week_day', 'Hour', 'code', 'name', 'latitude', 'longitude',\n",
              "       'year'],\n",
              "      dtype='object')"
            ]
          },
          "metadata": {
            "tags": []
          },
          "execution_count": 39
        }
      ]
    },
    {
      "cell_type": "code",
      "metadata": {
        "id": "gz8MQszSp6St",
        "colab_type": "code",
        "colab": {
          "base_uri": "https://localhost:8080/",
          "height": 326
        },
        "outputId": "e2f74a0d-79f2-49d6-b4e8-14647e51f57b"
      },
      "source": [
        "# Change the order of dataframe columns\n",
        "new_order = ['Station_code', 'name', 'latitude', 'longitude', 'Year', 'Month', 'Day', 'Week_day', 'Hour', 'Move_out', 'Move_in',  \n",
        "             'Temp (°C)', 'Dew Point Temp (°C)', 'Rel Hum (%)', 'Wind Dir (10s deg)', 'Wind Spd (km/h)', \n",
        "             'Visibility (km)', 'Stn Press (kPa)', 'Wind Chill', 'Weather']\n",
        "df_merged = df_merged[new_order]\n",
        "\n",
        "# Rename columns names\n",
        "df_merged.columns = ['Station_Code', 'Station_Name', 'Latitude', 'Longitude', 'Year', 'Month', 'Day', 'Week_Day', 'Hour', 'Bike_Move_Out', 'Bike_Move_In',  \n",
        "             'Temp_(°C)', 'Dew_Point_Temp_(°C)', 'Rel_Hum_(%)', 'Wind_Dir_(10s_deg)', 'Wind_Spd_(km/h)', \n",
        "             'Visibility_(km)', 'Stn_Press_(kPa)', 'Wind_Chill', 'Weather']\n",
        "df_merged.head()"
      ],
      "execution_count": 40,
      "outputs": [
        {
          "output_type": "execute_result",
          "data": {
            "text/html": [
              "<div>\n",
              "<style scoped>\n",
              "    .dataframe tbody tr th:only-of-type {\n",
              "        vertical-align: middle;\n",
              "    }\n",
              "\n",
              "    .dataframe tbody tr th {\n",
              "        vertical-align: top;\n",
              "    }\n",
              "\n",
              "    .dataframe thead th {\n",
              "        text-align: right;\n",
              "    }\n",
              "</style>\n",
              "<table border=\"1\" class=\"dataframe\">\n",
              "  <thead>\n",
              "    <tr style=\"text-align: right;\">\n",
              "      <th></th>\n",
              "      <th>Station_Code</th>\n",
              "      <th>Station_Name</th>\n",
              "      <th>Latitude</th>\n",
              "      <th>Longitude</th>\n",
              "      <th>Year</th>\n",
              "      <th>Month</th>\n",
              "      <th>Day</th>\n",
              "      <th>Week_Day</th>\n",
              "      <th>Hour</th>\n",
              "      <th>Bike_Move_Out</th>\n",
              "      <th>Bike_Move_In</th>\n",
              "      <th>Temp_(°C)</th>\n",
              "      <th>Dew_Point_Temp_(°C)</th>\n",
              "      <th>Rel_Hum_(%)</th>\n",
              "      <th>Wind_Dir_(10s_deg)</th>\n",
              "      <th>Wind_Spd_(km/h)</th>\n",
              "      <th>Visibility_(km)</th>\n",
              "      <th>Stn_Press_(kPa)</th>\n",
              "      <th>Wind_Chill</th>\n",
              "      <th>Weather</th>\n",
              "    </tr>\n",
              "  </thead>\n",
              "  <tbody>\n",
              "    <tr>\n",
              "      <th>0</th>\n",
              "      <td>6062</td>\n",
              "      <td>Drummond / Ste-Catherine</td>\n",
              "      <td>45.50</td>\n",
              "      <td>-73.57</td>\n",
              "      <td>2014</td>\n",
              "      <td>4</td>\n",
              "      <td>15</td>\n",
              "      <td>1</td>\n",
              "      <td>0</td>\n",
              "      <td>1</td>\n",
              "      <td>0</td>\n",
              "      <td>13.90</td>\n",
              "      <td>13.00</td>\n",
              "      <td>94.00</td>\n",
              "      <td>20.00</td>\n",
              "      <td>10.00</td>\n",
              "      <td>16.10</td>\n",
              "      <td>99.91</td>\n",
              "      <td>-4.00</td>\n",
              "      <td>Rain Showers</td>\n",
              "    </tr>\n",
              "    <tr>\n",
              "      <th>1</th>\n",
              "      <td>6064</td>\n",
              "      <td>de Maisonneuve / Stanley</td>\n",
              "      <td>45.50</td>\n",
              "      <td>-73.58</td>\n",
              "      <td>2014</td>\n",
              "      <td>4</td>\n",
              "      <td>15</td>\n",
              "      <td>1</td>\n",
              "      <td>0</td>\n",
              "      <td>1</td>\n",
              "      <td>0</td>\n",
              "      <td>13.90</td>\n",
              "      <td>13.00</td>\n",
              "      <td>94.00</td>\n",
              "      <td>20.00</td>\n",
              "      <td>10.00</td>\n",
              "      <td>16.10</td>\n",
              "      <td>99.91</td>\n",
              "      <td>-4.00</td>\n",
              "      <td>Rain Showers</td>\n",
              "    </tr>\n",
              "    <tr>\n",
              "      <th>2</th>\n",
              "      <td>6068</td>\n",
              "      <td>Mansfield / Sherbrooke</td>\n",
              "      <td>45.50</td>\n",
              "      <td>-73.58</td>\n",
              "      <td>2014</td>\n",
              "      <td>4</td>\n",
              "      <td>15</td>\n",
              "      <td>1</td>\n",
              "      <td>0</td>\n",
              "      <td>1</td>\n",
              "      <td>1</td>\n",
              "      <td>13.90</td>\n",
              "      <td>13.00</td>\n",
              "      <td>94.00</td>\n",
              "      <td>20.00</td>\n",
              "      <td>10.00</td>\n",
              "      <td>16.10</td>\n",
              "      <td>99.91</td>\n",
              "      <td>-4.00</td>\n",
              "      <td>Rain Showers</td>\n",
              "    </tr>\n",
              "    <tr>\n",
              "      <th>3</th>\n",
              "      <td>6082</td>\n",
              "      <td>6e avenue / Rosemont</td>\n",
              "      <td>45.55</td>\n",
              "      <td>-73.58</td>\n",
              "      <td>2014</td>\n",
              "      <td>4</td>\n",
              "      <td>15</td>\n",
              "      <td>1</td>\n",
              "      <td>0</td>\n",
              "      <td>0</td>\n",
              "      <td>1</td>\n",
              "      <td>13.90</td>\n",
              "      <td>13.00</td>\n",
              "      <td>94.00</td>\n",
              "      <td>20.00</td>\n",
              "      <td>10.00</td>\n",
              "      <td>16.10</td>\n",
              "      <td>99.91</td>\n",
              "      <td>-4.00</td>\n",
              "      <td>Rain Showers</td>\n",
              "    </tr>\n",
              "    <tr>\n",
              "      <th>4</th>\n",
              "      <td>6093</td>\n",
              "      <td>Atwater / Sherbrooke</td>\n",
              "      <td>45.49</td>\n",
              "      <td>-73.59</td>\n",
              "      <td>2014</td>\n",
              "      <td>4</td>\n",
              "      <td>15</td>\n",
              "      <td>1</td>\n",
              "      <td>0</td>\n",
              "      <td>0</td>\n",
              "      <td>1</td>\n",
              "      <td>13.90</td>\n",
              "      <td>13.00</td>\n",
              "      <td>94.00</td>\n",
              "      <td>20.00</td>\n",
              "      <td>10.00</td>\n",
              "      <td>16.10</td>\n",
              "      <td>99.91</td>\n",
              "      <td>-4.00</td>\n",
              "      <td>Rain Showers</td>\n",
              "    </tr>\n",
              "  </tbody>\n",
              "</table>\n",
              "</div>"
            ],
            "text/plain": [
              "   Station_Code              Station_Name  ...  Wind_Chill       Weather\n",
              "0          6062  Drummond / Ste-Catherine  ...       -4.00  Rain Showers\n",
              "1          6064  de Maisonneuve / Stanley  ...       -4.00  Rain Showers\n",
              "2          6068    Mansfield / Sherbrooke  ...       -4.00  Rain Showers\n",
              "3          6082      6e avenue / Rosemont  ...       -4.00  Rain Showers\n",
              "4          6093      Atwater / Sherbrooke  ...       -4.00  Rain Showers\n",
              "\n",
              "[5 rows x 20 columns]"
            ]
          },
          "metadata": {
            "tags": []
          },
          "execution_count": 40
        }
      ]
    },
    {
      "cell_type": "code",
      "metadata": {
        "id": "LvQuKNCvqA0o",
        "colab_type": "code",
        "colab": {}
      },
      "source": [
        "df_merged.to_csv('/content/gdrive/My Drive/Colab Notebooks/bixi-montreal/processed-data/bixi-trip-weather-data-hourly-2014-2018.csv', index=False)"
      ],
      "execution_count": 0,
      "outputs": []
    }
  ]
}